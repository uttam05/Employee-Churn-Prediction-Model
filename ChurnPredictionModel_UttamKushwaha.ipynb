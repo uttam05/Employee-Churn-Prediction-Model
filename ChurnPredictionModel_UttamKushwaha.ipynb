{
 "cells": [
  {
   "cell_type": "code",
   "execution_count": 1,
   "metadata": {},
   "outputs": [],
   "source": [
    "import pandas as pd\n",
    "import numpy as np\n",
    "import matplotlib.pyplot as plt\n",
    "%matplotlib inline\n",
    "import seaborn as sb"
   ]
  },
  {
   "cell_type": "code",
   "execution_count": 2,
   "metadata": {},
   "outputs": [
    {
     "name": "stdout",
     "output_type": "stream",
     "text": [
      "(1229, 24)\n",
      "(308, 22)\n"
     ]
    }
   ],
   "source": [
    "train=pd.read_csv(\"train.csv\")\n",
    "test = pd.read_csv('test.csv')\n",
    "print(train.shape)\n",
    "print(test.shape)"
   ]
  },
  {
   "cell_type": "code",
   "execution_count": 3,
   "metadata": {},
   "outputs": [
    {
     "data": {
      "text/html": [
       "<div>\n",
       "<style scoped>\n",
       "    .dataframe tbody tr th:only-of-type {\n",
       "        vertical-align: middle;\n",
       "    }\n",
       "\n",
       "    .dataframe tbody tr th {\n",
       "        vertical-align: top;\n",
       "    }\n",
       "\n",
       "    .dataframe thead th {\n",
       "        text-align: right;\n",
       "    }\n",
       "</style>\n",
       "<table border=\"1\" class=\"dataframe\">\n",
       "  <thead>\n",
       "    <tr style=\"text-align: right;\">\n",
       "      <th></th>\n",
       "      <th>DOJ</th>\n",
       "      <th>Sub-Function</th>\n",
       "      <th>Total years of experience (in months) at the time of joining</th>\n",
       "      <th>DOB</th>\n",
       "      <th>Nature of employment (Advisory/ Retainer/ Contractual /Permanent)</th>\n",
       "      <th>Hipo Status</th>\n",
       "      <th>V Connect</th>\n",
       "      <th>Sub-Function - during hire</th>\n",
       "      <th>Designation - during hire</th>\n",
       "      <th>Function - latest</th>\n",
       "      <th>...</th>\n",
       "      <th>Institute</th>\n",
       "      <th>Benchmark company visit (Y/N)</th>\n",
       "      <th>Star of business (Y/N)</th>\n",
       "      <th>Employee ID</th>\n",
       "      <th>Tenure at current grade (in months)</th>\n",
       "      <th>Designation - latest</th>\n",
       "      <th>Grade - latest</th>\n",
       "      <th>Date of exit (if any) (dd-mm-yyyy)</th>\n",
       "      <th>Part of internal growth workshop (Y/N)</th>\n",
       "      <th>Exited (Y/N)</th>\n",
       "    </tr>\n",
       "  </thead>\n",
       "  <tbody>\n",
       "    <tr>\n",
       "      <th>0</th>\n",
       "      <td>11-03-13</td>\n",
       "      <td>Ore Dressing</td>\n",
       "      <td>0</td>\n",
       "      <td>30-Mar-90</td>\n",
       "      <td>Permanent</td>\n",
       "      <td>N</td>\n",
       "      <td>N</td>\n",
       "      <td>Ore Dressing</td>\n",
       "      <td>Engineer - Ore Dressing</td>\n",
       "      <td>Operations</td>\n",
       "      <td>...</td>\n",
       "      <td>NIT-Raipur - NIT-Raipur,,</td>\n",
       "      <td>Y</td>\n",
       "      <td>N</td>\n",
       "      <td>569088</td>\n",
       "      <td>0</td>\n",
       "      <td>Engineer - Ore Dressing</td>\n",
       "      <td>M7</td>\n",
       "      <td>28-03-16</td>\n",
       "      <td>N</td>\n",
       "      <td>Y</td>\n",
       "    </tr>\n",
       "    <tr>\n",
       "      <th>1</th>\n",
       "      <td>10-02-14</td>\n",
       "      <td>Mechanical</td>\n",
       "      <td>0</td>\n",
       "      <td>23-Dec-91</td>\n",
       "      <td>Permanent</td>\n",
       "      <td>N</td>\n",
       "      <td>N</td>\n",
       "      <td>Mechanical</td>\n",
       "      <td>Engineer - Mechanical</td>\n",
       "      <td>Maintenance</td>\n",
       "      <td>...</td>\n",
       "      <td>Manipal Inst of Technology - Manipal Universit...</td>\n",
       "      <td>N</td>\n",
       "      <td>N</td>\n",
       "      <td>573304</td>\n",
       "      <td>0</td>\n",
       "      <td>Engineer - Mechanical</td>\n",
       "      <td>M7</td>\n",
       "      <td>23-12-14</td>\n",
       "      <td>N</td>\n",
       "      <td>Y</td>\n",
       "    </tr>\n",
       "    <tr>\n",
       "      <th>2</th>\n",
       "      <td>01-07-11</td>\n",
       "      <td>Mining</td>\n",
       "      <td>0</td>\n",
       "      <td>06-Oct-90</td>\n",
       "      <td>Permanent</td>\n",
       "      <td>N</td>\n",
       "      <td>N</td>\n",
       "      <td>Mining</td>\n",
       "      <td>GET - Mining</td>\n",
       "      <td>Operations</td>\n",
       "      <td>...</td>\n",
       "      <td>CTAE , Udaipur - MPUAT-Udaipur, ,</td>\n",
       "      <td>N</td>\n",
       "      <td>N</td>\n",
       "      <td>560113</td>\n",
       "      <td>0</td>\n",
       "      <td>Engineer - Mining</td>\n",
       "      <td>M7</td>\n",
       "      <td>12-09-15</td>\n",
       "      <td>N</td>\n",
       "      <td>Y</td>\n",
       "    </tr>\n",
       "    <tr>\n",
       "      <th>3</th>\n",
       "      <td>15-10-05</td>\n",
       "      <td>Mining</td>\n",
       "      <td>0</td>\n",
       "      <td>03-Dec-82</td>\n",
       "      <td>Permanent</td>\n",
       "      <td>N</td>\n",
       "      <td>N</td>\n",
       "      <td>Operations</td>\n",
       "      <td>Manager - Mining</td>\n",
       "      <td>Operations</td>\n",
       "      <td>...</td>\n",
       "      <td>BIT, Sindri</td>\n",
       "      <td>Y</td>\n",
       "      <td>N</td>\n",
       "      <td>267474</td>\n",
       "      <td>0</td>\n",
       "      <td>Manager - Mining</td>\n",
       "      <td>M4</td>\n",
       "      <td>24-08-15</td>\n",
       "      <td>N</td>\n",
       "      <td>Y</td>\n",
       "    </tr>\n",
       "    <tr>\n",
       "      <th>4</th>\n",
       "      <td>18-05-15</td>\n",
       "      <td>MIS</td>\n",
       "      <td>0</td>\n",
       "      <td>25-Nov-91</td>\n",
       "      <td>Permanent</td>\n",
       "      <td>N</td>\n",
       "      <td>N</td>\n",
       "      <td>Finance</td>\n",
       "      <td>Associate Manager - Finance</td>\n",
       "      <td>Finance</td>\n",
       "      <td>...</td>\n",
       "      <td>UCCMS College-Udaipur, I.C.A.I</td>\n",
       "      <td>N</td>\n",
       "      <td>N</td>\n",
       "      <td>576220</td>\n",
       "      <td>26</td>\n",
       "      <td>Associate Manager - Finance</td>\n",
       "      <td>M6</td>\n",
       "      <td>30-06-17</td>\n",
       "      <td>N</td>\n",
       "      <td>N</td>\n",
       "    </tr>\n",
       "    <tr>\n",
       "      <th>5</th>\n",
       "      <td>09-03-10</td>\n",
       "      <td>Improvement Projects</td>\n",
       "      <td>0</td>\n",
       "      <td>23-May-87</td>\n",
       "      <td>Permanent</td>\n",
       "      <td>N</td>\n",
       "      <td>N</td>\n",
       "      <td>Operations</td>\n",
       "      <td>Engineer - Process</td>\n",
       "      <td>Operations</td>\n",
       "      <td>...</td>\n",
       "      <td>NIT Raipur</td>\n",
       "      <td>N</td>\n",
       "      <td>N</td>\n",
       "      <td>292902</td>\n",
       "      <td>0</td>\n",
       "      <td>Engineer - Process</td>\n",
       "      <td>M7</td>\n",
       "      <td>19-03-15</td>\n",
       "      <td>N</td>\n",
       "      <td>Y</td>\n",
       "    </tr>\n",
       "    <tr>\n",
       "      <th>6</th>\n",
       "      <td>04-08-14</td>\n",
       "      <td>Mining</td>\n",
       "      <td>0</td>\n",
       "      <td>14-Sep-92</td>\n",
       "      <td>Permanent</td>\n",
       "      <td>N</td>\n",
       "      <td>N</td>\n",
       "      <td>Mining</td>\n",
       "      <td>GET - Mining</td>\n",
       "      <td>Operations</td>\n",
       "      <td>...</td>\n",
       "      <td>Kakatiya University-Warangal - Kakatiya Univer...</td>\n",
       "      <td>N</td>\n",
       "      <td>N</td>\n",
       "      <td>574390</td>\n",
       "      <td>0</td>\n",
       "      <td>Engineer - Mining</td>\n",
       "      <td>M7</td>\n",
       "      <td>13-05-16</td>\n",
       "      <td>N</td>\n",
       "      <td>Y</td>\n",
       "    </tr>\n",
       "    <tr>\n",
       "      <th>7</th>\n",
       "      <td>08-06-09</td>\n",
       "      <td>Process</td>\n",
       "      <td>0</td>\n",
       "      <td>05-Jan-88</td>\n",
       "      <td>Permanent</td>\n",
       "      <td>N</td>\n",
       "      <td>N</td>\n",
       "      <td>Operations</td>\n",
       "      <td>Process Associate</td>\n",
       "      <td>Operations</td>\n",
       "      <td>...</td>\n",
       "      <td>University of Bikaner</td>\n",
       "      <td>N</td>\n",
       "      <td>N</td>\n",
       "      <td>285883</td>\n",
       "      <td>0</td>\n",
       "      <td>Process Associate</td>\n",
       "      <td>M9</td>\n",
       "      <td>22-02-14</td>\n",
       "      <td>N</td>\n",
       "      <td>Y</td>\n",
       "    </tr>\n",
       "    <tr>\n",
       "      <th>8</th>\n",
       "      <td>08-07-13</td>\n",
       "      <td>Instrumentation</td>\n",
       "      <td>0</td>\n",
       "      <td>19-Jan-91</td>\n",
       "      <td>Permanent</td>\n",
       "      <td>N</td>\n",
       "      <td>N</td>\n",
       "      <td>Instrumentation</td>\n",
       "      <td>GET - Instrumentation</td>\n",
       "      <td>Maintenance</td>\n",
       "      <td>...</td>\n",
       "      <td>NIT-Jalandhar - NIT-Jalandhar,</td>\n",
       "      <td>N</td>\n",
       "      <td>N</td>\n",
       "      <td>571571</td>\n",
       "      <td>0</td>\n",
       "      <td>Engineer - Instrumentation</td>\n",
       "      <td>M7</td>\n",
       "      <td>02-04-14</td>\n",
       "      <td>N</td>\n",
       "      <td>Y</td>\n",
       "    </tr>\n",
       "    <tr>\n",
       "      <th>9</th>\n",
       "      <td>17-02-14</td>\n",
       "      <td>Power</td>\n",
       "      <td>0</td>\n",
       "      <td>09-Feb-90</td>\n",
       "      <td>Permanent</td>\n",
       "      <td>N</td>\n",
       "      <td>N</td>\n",
       "      <td>Asset Optimization</td>\n",
       "      <td>Engineer - Electrical</td>\n",
       "      <td>Operations</td>\n",
       "      <td>...</td>\n",
       "      <td>CTAE-Udaipur - MPUAT-Udaipur, ,</td>\n",
       "      <td>N</td>\n",
       "      <td>N</td>\n",
       "      <td>573317</td>\n",
       "      <td>0</td>\n",
       "      <td>Engineer - Power</td>\n",
       "      <td>M7</td>\n",
       "      <td>22-08-15</td>\n",
       "      <td>N</td>\n",
       "      <td>Y</td>\n",
       "    </tr>\n",
       "  </tbody>\n",
       "</table>\n",
       "<p>10 rows × 24 columns</p>\n",
       "</div>"
      ],
      "text/plain": [
       "        DOJ          Sub-Function  \\\n",
       "0  11-03-13          Ore Dressing   \n",
       "1  10-02-14            Mechanical   \n",
       "2  01-07-11                Mining   \n",
       "3  15-10-05                Mining   \n",
       "4  18-05-15                  MIS    \n",
       "5  09-03-10  Improvement Projects   \n",
       "6  04-08-14                Mining   \n",
       "7  08-06-09               Process   \n",
       "8  08-07-13       Instrumentation   \n",
       "9  17-02-14                 Power   \n",
       "\n",
       "   Total years of experience (in months) at the time of joining        DOB  \\\n",
       "0                                                  0             30-Mar-90   \n",
       "1                                                  0             23-Dec-91   \n",
       "2                                                  0             06-Oct-90   \n",
       "3                                                  0             03-Dec-82   \n",
       "4                                                  0             25-Nov-91   \n",
       "5                                                  0             23-May-87   \n",
       "6                                                  0             14-Sep-92   \n",
       "7                                                  0             05-Jan-88   \n",
       "8                                                  0             19-Jan-91   \n",
       "9                                                  0             09-Feb-90   \n",
       "\n",
       "  Nature of employment (Advisory/ Retainer/ Contractual /Permanent)  \\\n",
       "0                                          Permanent                  \n",
       "1                                          Permanent                  \n",
       "2                                          Permanent                  \n",
       "3                                          Permanent                  \n",
       "4                                          Permanent                  \n",
       "5                                          Permanent                  \n",
       "6                                          Permanent                  \n",
       "7                                          Permanent                  \n",
       "8                                          Permanent                  \n",
       "9                                          Permanent                  \n",
       "\n",
       "  Hipo Status V Connect Sub-Function - during hire  \\\n",
       "0           N         N               Ore Dressing   \n",
       "1           N         N                 Mechanical   \n",
       "2           N         N                     Mining   \n",
       "3           N         N                 Operations   \n",
       "4           N         N                    Finance   \n",
       "5           N         N                 Operations   \n",
       "6           N         N                     Mining   \n",
       "7           N         N                 Operations   \n",
       "8           N         N            Instrumentation   \n",
       "9           N         N         Asset Optimization   \n",
       "\n",
       "     Designation - during hire Function - latest     ...       \\\n",
       "0      Engineer - Ore Dressing        Operations     ...        \n",
       "1        Engineer - Mechanical       Maintenance     ...        \n",
       "2                 GET - Mining        Operations     ...        \n",
       "3             Manager - Mining        Operations     ...        \n",
       "4  Associate Manager - Finance           Finance     ...        \n",
       "5           Engineer - Process        Operations     ...        \n",
       "6                 GET - Mining        Operations     ...        \n",
       "7            Process Associate        Operations     ...        \n",
       "8        GET - Instrumentation       Maintenance     ...        \n",
       "9        Engineer - Electrical        Operations     ...        \n",
       "\n",
       "                                           Institute  \\\n",
       "0                          NIT-Raipur - NIT-Raipur,,   \n",
       "1  Manipal Inst of Technology - Manipal Universit...   \n",
       "2                 CTAE , Udaipur - MPUAT-Udaipur, ,    \n",
       "3                                        BIT, Sindri   \n",
       "4                     UCCMS College-Udaipur, I.C.A.I   \n",
       "5                                         NIT Raipur   \n",
       "6  Kakatiya University-Warangal - Kakatiya Univer...   \n",
       "7                              University of Bikaner   \n",
       "8                    NIT-Jalandhar - NIT-Jalandhar,    \n",
       "9                   CTAE-Udaipur - MPUAT-Udaipur, ,    \n",
       "\n",
       "  Benchmark company visit (Y/N) Star of business (Y/N)  Employee ID  \\\n",
       "0                             Y                      N       569088   \n",
       "1                             N                      N       573304   \n",
       "2                             N                      N       560113   \n",
       "3                             Y                      N       267474   \n",
       "4                             N                      N       576220   \n",
       "5                             N                      N       292902   \n",
       "6                             N                      N       574390   \n",
       "7                             N                      N       285883   \n",
       "8                             N                      N       571571   \n",
       "9                             N                      N       573317   \n",
       "\n",
       "  Tenure at current grade (in months)         Designation - latest  \\\n",
       "0                                   0      Engineer - Ore Dressing   \n",
       "1                                   0        Engineer - Mechanical   \n",
       "2                                   0            Engineer - Mining   \n",
       "3                                   0             Manager - Mining   \n",
       "4                                  26  Associate Manager - Finance   \n",
       "5                                   0           Engineer - Process   \n",
       "6                                   0            Engineer - Mining   \n",
       "7                                   0            Process Associate   \n",
       "8                                   0   Engineer - Instrumentation   \n",
       "9                                   0             Engineer - Power   \n",
       "\n",
       "  Grade - latest  Date of exit (if any) (dd-mm-yyyy)  \\\n",
       "0             M7                            28-03-16   \n",
       "1             M7                            23-12-14   \n",
       "2             M7                            12-09-15   \n",
       "3             M4                            24-08-15   \n",
       "4             M6                            30-06-17   \n",
       "5             M7                            19-03-15   \n",
       "6             M7                            13-05-16   \n",
       "7             M9                            22-02-14   \n",
       "8             M7                            02-04-14   \n",
       "9             M7                            22-08-15   \n",
       "\n",
       "   Part of internal growth workshop (Y/N) Exited (Y/N)  \n",
       "0                                       N            Y  \n",
       "1                                       N            Y  \n",
       "2                                       N            Y  \n",
       "3                                       N            Y  \n",
       "4                                       N            N  \n",
       "5                                       N            Y  \n",
       "6                                       N            Y  \n",
       "7                                       N            Y  \n",
       "8                                       N            Y  \n",
       "9                                       N            Y  \n",
       "\n",
       "[10 rows x 24 columns]"
      ]
     },
     "execution_count": 3,
     "metadata": {},
     "output_type": "execute_result"
    }
   ],
   "source": [
    "train.head(10)"
   ]
  },
  {
   "cell_type": "code",
   "execution_count": 4,
   "metadata": {},
   "outputs": [
    {
     "name": "stdout",
     "output_type": "stream",
     "text": [
      "<class 'pandas.core.frame.DataFrame'>\n",
      "RangeIndex: 1229 entries, 0 to 1228\n",
      "Data columns (total 24 columns):\n",
      "DOJ                                                                  1229 non-null object\n",
      "Sub-Function                                                         1229 non-null object\n",
      "Total years of experience (in months) at the time of joining         1229 non-null int64\n",
      "DOB                                                                  1229 non-null object\n",
      "Nature of employment (Advisory/ Retainer/ Contractual /Permanent)    1229 non-null object\n",
      "Hipo Status                                                          1229 non-null object\n",
      "V Connect                                                            1229 non-null object\n",
      "Sub-Function - during hire                                           1229 non-null object\n",
      "Designation - during hire                                            1229 non-null object\n",
      "Function - latest                                                    1229 non-null object\n",
      "Leaders connect member (Y/N)                                         1229 non-null object\n",
      "Function - during hire                                               1229 non-null object\n",
      "Grade - during hire                                                  1229 non-null object\n",
      "Number of Internal Movements (Transfers)                             1229 non-null int64\n",
      "Institute                                                            1229 non-null object\n",
      "Benchmark company visit (Y/N)                                        1229 non-null object\n",
      "Star of business (Y/N)                                               1229 non-null object\n",
      "Employee ID                                                          1229 non-null int64\n",
      "Tenure at current grade (in months)                                  1229 non-null int64\n",
      "Designation - latest                                                 1229 non-null object\n",
      "Grade - latest                                                       1229 non-null object\n",
      "Date of exit (if any) (dd-mm-yyyy)                                   1229 non-null object\n",
      "Part of internal growth workshop (Y/N)                               1229 non-null object\n",
      "Exited (Y/N)                                                         1229 non-null object\n",
      "dtypes: int64(4), object(20)\n",
      "memory usage: 230.5+ KB\n"
     ]
    }
   ],
   "source": [
    "train.info()"
   ]
  },
  {
   "cell_type": "code",
   "execution_count": 5,
   "metadata": {},
   "outputs": [
    {
     "data": {
      "text/html": [
       "<div>\n",
       "<style scoped>\n",
       "    .dataframe tbody tr th:only-of-type {\n",
       "        vertical-align: middle;\n",
       "    }\n",
       "\n",
       "    .dataframe tbody tr th {\n",
       "        vertical-align: top;\n",
       "    }\n",
       "\n",
       "    .dataframe thead th {\n",
       "        text-align: right;\n",
       "    }\n",
       "</style>\n",
       "<table border=\"1\" class=\"dataframe\">\n",
       "  <thead>\n",
       "    <tr style=\"text-align: right;\">\n",
       "      <th></th>\n",
       "      <th>count</th>\n",
       "      <th>mean</th>\n",
       "      <th>std</th>\n",
       "      <th>min</th>\n",
       "      <th>25%</th>\n",
       "      <th>50%</th>\n",
       "      <th>75%</th>\n",
       "      <th>max</th>\n",
       "    </tr>\n",
       "  </thead>\n",
       "  <tbody>\n",
       "    <tr>\n",
       "      <th>Total years of experience (in months) at the time of joining</th>\n",
       "      <td>1229.0</td>\n",
       "      <td>17.894223</td>\n",
       "      <td>65.877096</td>\n",
       "      <td>0.0</td>\n",
       "      <td>0.0</td>\n",
       "      <td>0.0</td>\n",
       "      <td>0.0</td>\n",
       "      <td>463.0</td>\n",
       "    </tr>\n",
       "    <tr>\n",
       "      <th>Number of Internal Movements (Transfers)</th>\n",
       "      <td>1229.0</td>\n",
       "      <td>0.648495</td>\n",
       "      <td>1.045445</td>\n",
       "      <td>0.0</td>\n",
       "      <td>0.0</td>\n",
       "      <td>0.0</td>\n",
       "      <td>1.0</td>\n",
       "      <td>10.0</td>\n",
       "    </tr>\n",
       "    <tr>\n",
       "      <th>Employee ID</th>\n",
       "      <td>1229.0</td>\n",
       "      <td>490835.161107</td>\n",
       "      <td>157410.084761</td>\n",
       "      <td>107262.0</td>\n",
       "      <td>297703.0</td>\n",
       "      <td>570705.0</td>\n",
       "      <td>576107.0</td>\n",
       "      <td>888888.0</td>\n",
       "    </tr>\n",
       "    <tr>\n",
       "      <th>Tenure at current grade (in months)</th>\n",
       "      <td>1229.0</td>\n",
       "      <td>6.725793</td>\n",
       "      <td>12.022326</td>\n",
       "      <td>0.0</td>\n",
       "      <td>0.0</td>\n",
       "      <td>0.0</td>\n",
       "      <td>11.0</td>\n",
       "      <td>42.0</td>\n",
       "    </tr>\n",
       "  </tbody>\n",
       "</table>\n",
       "</div>"
      ],
      "text/plain": [
       "                                                     count           mean  \\\n",
       "Total years of experience (in months) at the ti...  1229.0      17.894223   \n",
       "Number of Internal Movements (Transfers)            1229.0       0.648495   \n",
       "Employee ID                                         1229.0  490835.161107   \n",
       "Tenure at current grade (in months)                 1229.0       6.725793   \n",
       "\n",
       "                                                              std       min  \\\n",
       "Total years of experience (in months) at the ti...      65.877096       0.0   \n",
       "Number of Internal Movements (Transfers)                 1.045445       0.0   \n",
       "Employee ID                                         157410.084761  107262.0   \n",
       "Tenure at current grade (in months)                     12.022326       0.0   \n",
       "\n",
       "                                                         25%       50%  \\\n",
       "Total years of experience (in months) at the ti...       0.0       0.0   \n",
       "Number of Internal Movements (Transfers)                 0.0       0.0   \n",
       "Employee ID                                         297703.0  570705.0   \n",
       "Tenure at current grade (in months)                      0.0       0.0   \n",
       "\n",
       "                                                         75%       max  \n",
       "Total years of experience (in months) at the ti...       0.0     463.0  \n",
       "Number of Internal Movements (Transfers)                 1.0      10.0  \n",
       "Employee ID                                         576107.0  888888.0  \n",
       "Tenure at current grade (in months)                     11.0      42.0  "
      ]
     },
     "execution_count": 5,
     "metadata": {},
     "output_type": "execute_result"
    }
   ],
   "source": [
    "train.describe().transpose()"
   ]
  },
  {
   "cell_type": "code",
   "execution_count": 6,
   "metadata": {},
   "outputs": [
    {
     "data": {
      "text/plain": [
       "DOJ                                                                  0\n",
       "Sub-Function                                                         0\n",
       "Total years of experience (in months) at the time of joining         0\n",
       "DOB                                                                  0\n",
       "Nature of employment (Advisory/ Retainer/ Contractual /Permanent)    0\n",
       "Hipo Status                                                          0\n",
       "V Connect                                                            0\n",
       "Sub-Function - during hire                                           0\n",
       "Designation - during hire                                            0\n",
       "Function - latest                                                    0\n",
       "Leaders connect member (Y/N)                                         0\n",
       "Function - during hire                                               0\n",
       "Grade - during hire                                                  0\n",
       "Number of Internal Movements (Transfers)                             0\n",
       "Institute                                                            0\n",
       "Benchmark company visit (Y/N)                                        0\n",
       "Star of business (Y/N)                                               0\n",
       "Employee ID                                                          0\n",
       "Tenure at current grade (in months)                                  0\n",
       "Designation - latest                                                 0\n",
       "Grade - latest                                                       0\n",
       "Date of exit (if any) (dd-mm-yyyy)                                   0\n",
       "Part of internal growth workshop (Y/N)                               0\n",
       "Exited (Y/N)                                                         0\n",
       "dtype: int64"
      ]
     },
     "execution_count": 6,
     "metadata": {},
     "output_type": "execute_result"
    }
   ],
   "source": [
    "train.isnull().sum()"
   ]
  },
  {
   "cell_type": "code",
   "execution_count": 7,
   "metadata": {},
   "outputs": [],
   "source": [
    "combine = [train, test]"
   ]
  },
  {
   "cell_type": "code",
   "execution_count": 8,
   "metadata": {},
   "outputs": [],
   "source": [
    "for df in combine:\n",
    "    df['Hipo Status']=df['Hipo Status'].apply(lambda x: 0 if x=='N' else 1)\n",
    "    df['V Connect']=df['V Connect'].apply(lambda x: 0 if x=='N' else 1)\n",
    "    df['Leaders connect member (Y/N)']=df['Leaders connect member (Y/N)'].apply(lambda x: 0 if x=='N' else 1)\n",
    "    df['Benchmark company visit (Y/N)']=df['Benchmark company visit (Y/N)'].apply(lambda x: 0 if x=='N' else 1)\n",
    "    df['Star of business (Y/N)']=df['Star of business (Y/N)'].apply(lambda x: 0 if x=='N' else 1)\n",
    "    df['Part of internal growth workshop (Y/N)']=df['Part of internal growth workshop (Y/N)'].apply(lambda x: 0 if x=='N' else 1)"
   ]
  },
  {
   "cell_type": "code",
   "execution_count": 9,
   "metadata": {},
   "outputs": [],
   "source": [
    "train['Exited (Y/N)']=train['Exited (Y/N)'].apply(lambda x: 0 if x=='N' else 1)"
   ]
  },
  {
   "cell_type": "code",
   "execution_count": 10,
   "metadata": {},
   "outputs": [
    {
     "data": {
      "text/plain": [
       "1    0.721725\n",
       "0    0.278275\n",
       "Name: Exited (Y/N), dtype: float64"
      ]
     },
     "execution_count": 10,
     "metadata": {},
     "output_type": "execute_result"
    }
   ],
   "source": [
    "train['Exited (Y/N)'].value_counts()/ len(train)"
   ]
  },
  {
   "cell_type": "code",
   "execution_count": 11,
   "metadata": {},
   "outputs": [
    {
     "data": {
      "text/html": [
       "<div>\n",
       "<style scoped>\n",
       "    .dataframe tbody tr th:only-of-type {\n",
       "        vertical-align: middle;\n",
       "    }\n",
       "\n",
       "    .dataframe tbody tr th {\n",
       "        vertical-align: top;\n",
       "    }\n",
       "\n",
       "    .dataframe thead th {\n",
       "        text-align: right;\n",
       "    }\n",
       "</style>\n",
       "<table border=\"1\" class=\"dataframe\">\n",
       "  <thead>\n",
       "    <tr style=\"text-align: right;\">\n",
       "      <th></th>\n",
       "      <th>DOJ</th>\n",
       "      <th>Sub-Function</th>\n",
       "      <th>Total years of experience (in months) at the time of joining</th>\n",
       "      <th>DOB</th>\n",
       "      <th>Nature of employment (Advisory/ Retainer/ Contractual /Permanent)</th>\n",
       "      <th>Hipo Status</th>\n",
       "      <th>V Connect</th>\n",
       "      <th>Sub-Function - during hire</th>\n",
       "      <th>Designation - during hire</th>\n",
       "      <th>Function - latest</th>\n",
       "      <th>...</th>\n",
       "      <th>Institute</th>\n",
       "      <th>Benchmark company visit (Y/N)</th>\n",
       "      <th>Star of business (Y/N)</th>\n",
       "      <th>Employee ID</th>\n",
       "      <th>Tenure at current grade (in months)</th>\n",
       "      <th>Designation - latest</th>\n",
       "      <th>Grade - latest</th>\n",
       "      <th>Date of exit (if any) (dd-mm-yyyy)</th>\n",
       "      <th>Part of internal growth workshop (Y/N)</th>\n",
       "      <th>Exited (Y/N)</th>\n",
       "    </tr>\n",
       "  </thead>\n",
       "  <tbody>\n",
       "    <tr>\n",
       "      <th>0</th>\n",
       "      <td>11-03-13</td>\n",
       "      <td>Ore Dressing</td>\n",
       "      <td>0</td>\n",
       "      <td>30-Mar-90</td>\n",
       "      <td>Permanent</td>\n",
       "      <td>0</td>\n",
       "      <td>0</td>\n",
       "      <td>Ore Dressing</td>\n",
       "      <td>Engineer - Ore Dressing</td>\n",
       "      <td>Operations</td>\n",
       "      <td>...</td>\n",
       "      <td>NIT-Raipur - NIT-Raipur,,</td>\n",
       "      <td>1</td>\n",
       "      <td>0</td>\n",
       "      <td>569088</td>\n",
       "      <td>0</td>\n",
       "      <td>Engineer - Ore Dressing</td>\n",
       "      <td>M7</td>\n",
       "      <td>28-03-16</td>\n",
       "      <td>0</td>\n",
       "      <td>1</td>\n",
       "    </tr>\n",
       "    <tr>\n",
       "      <th>1</th>\n",
       "      <td>10-02-14</td>\n",
       "      <td>Mechanical</td>\n",
       "      <td>0</td>\n",
       "      <td>23-Dec-91</td>\n",
       "      <td>Permanent</td>\n",
       "      <td>0</td>\n",
       "      <td>0</td>\n",
       "      <td>Mechanical</td>\n",
       "      <td>Engineer - Mechanical</td>\n",
       "      <td>Maintenance</td>\n",
       "      <td>...</td>\n",
       "      <td>Manipal Inst of Technology - Manipal Universit...</td>\n",
       "      <td>0</td>\n",
       "      <td>0</td>\n",
       "      <td>573304</td>\n",
       "      <td>0</td>\n",
       "      <td>Engineer - Mechanical</td>\n",
       "      <td>M7</td>\n",
       "      <td>23-12-14</td>\n",
       "      <td>0</td>\n",
       "      <td>1</td>\n",
       "    </tr>\n",
       "    <tr>\n",
       "      <th>2</th>\n",
       "      <td>01-07-11</td>\n",
       "      <td>Mining</td>\n",
       "      <td>0</td>\n",
       "      <td>06-Oct-90</td>\n",
       "      <td>Permanent</td>\n",
       "      <td>0</td>\n",
       "      <td>0</td>\n",
       "      <td>Mining</td>\n",
       "      <td>GET - Mining</td>\n",
       "      <td>Operations</td>\n",
       "      <td>...</td>\n",
       "      <td>CTAE , Udaipur - MPUAT-Udaipur, ,</td>\n",
       "      <td>0</td>\n",
       "      <td>0</td>\n",
       "      <td>560113</td>\n",
       "      <td>0</td>\n",
       "      <td>Engineer - Mining</td>\n",
       "      <td>M7</td>\n",
       "      <td>12-09-15</td>\n",
       "      <td>0</td>\n",
       "      <td>1</td>\n",
       "    </tr>\n",
       "    <tr>\n",
       "      <th>3</th>\n",
       "      <td>15-10-05</td>\n",
       "      <td>Mining</td>\n",
       "      <td>0</td>\n",
       "      <td>03-Dec-82</td>\n",
       "      <td>Permanent</td>\n",
       "      <td>0</td>\n",
       "      <td>0</td>\n",
       "      <td>Operations</td>\n",
       "      <td>Manager - Mining</td>\n",
       "      <td>Operations</td>\n",
       "      <td>...</td>\n",
       "      <td>BIT, Sindri</td>\n",
       "      <td>1</td>\n",
       "      <td>0</td>\n",
       "      <td>267474</td>\n",
       "      <td>0</td>\n",
       "      <td>Manager - Mining</td>\n",
       "      <td>M4</td>\n",
       "      <td>24-08-15</td>\n",
       "      <td>0</td>\n",
       "      <td>1</td>\n",
       "    </tr>\n",
       "    <tr>\n",
       "      <th>4</th>\n",
       "      <td>18-05-15</td>\n",
       "      <td>MIS</td>\n",
       "      <td>0</td>\n",
       "      <td>25-Nov-91</td>\n",
       "      <td>Permanent</td>\n",
       "      <td>0</td>\n",
       "      <td>0</td>\n",
       "      <td>Finance</td>\n",
       "      <td>Associate Manager - Finance</td>\n",
       "      <td>Finance</td>\n",
       "      <td>...</td>\n",
       "      <td>UCCMS College-Udaipur, I.C.A.I</td>\n",
       "      <td>0</td>\n",
       "      <td>0</td>\n",
       "      <td>576220</td>\n",
       "      <td>26</td>\n",
       "      <td>Associate Manager - Finance</td>\n",
       "      <td>M6</td>\n",
       "      <td>30-06-17</td>\n",
       "      <td>0</td>\n",
       "      <td>0</td>\n",
       "    </tr>\n",
       "  </tbody>\n",
       "</table>\n",
       "<p>5 rows × 24 columns</p>\n",
       "</div>"
      ],
      "text/plain": [
       "        DOJ  Sub-Function  \\\n",
       "0  11-03-13  Ore Dressing   \n",
       "1  10-02-14    Mechanical   \n",
       "2  01-07-11        Mining   \n",
       "3  15-10-05        Mining   \n",
       "4  18-05-15          MIS    \n",
       "\n",
       "   Total years of experience (in months) at the time of joining        DOB  \\\n",
       "0                                                  0             30-Mar-90   \n",
       "1                                                  0             23-Dec-91   \n",
       "2                                                  0             06-Oct-90   \n",
       "3                                                  0             03-Dec-82   \n",
       "4                                                  0             25-Nov-91   \n",
       "\n",
       "  Nature of employment (Advisory/ Retainer/ Contractual /Permanent)  \\\n",
       "0                                          Permanent                  \n",
       "1                                          Permanent                  \n",
       "2                                          Permanent                  \n",
       "3                                          Permanent                  \n",
       "4                                          Permanent                  \n",
       "\n",
       "   Hipo Status  V Connect Sub-Function - during hire  \\\n",
       "0            0          0               Ore Dressing   \n",
       "1            0          0                 Mechanical   \n",
       "2            0          0                     Mining   \n",
       "3            0          0                 Operations   \n",
       "4            0          0                    Finance   \n",
       "\n",
       "     Designation - during hire Function - latest     ...       \\\n",
       "0      Engineer - Ore Dressing        Operations     ...        \n",
       "1        Engineer - Mechanical       Maintenance     ...        \n",
       "2                 GET - Mining        Operations     ...        \n",
       "3             Manager - Mining        Operations     ...        \n",
       "4  Associate Manager - Finance           Finance     ...        \n",
       "\n",
       "                                           Institute  \\\n",
       "0                          NIT-Raipur - NIT-Raipur,,   \n",
       "1  Manipal Inst of Technology - Manipal Universit...   \n",
       "2                 CTAE , Udaipur - MPUAT-Udaipur, ,    \n",
       "3                                        BIT, Sindri   \n",
       "4                     UCCMS College-Udaipur, I.C.A.I   \n",
       "\n",
       "  Benchmark company visit (Y/N) Star of business (Y/N)  Employee ID  \\\n",
       "0                             1                      0       569088   \n",
       "1                             0                      0       573304   \n",
       "2                             0                      0       560113   \n",
       "3                             1                      0       267474   \n",
       "4                             0                      0       576220   \n",
       "\n",
       "  Tenure at current grade (in months)         Designation - latest  \\\n",
       "0                                   0      Engineer - Ore Dressing   \n",
       "1                                   0        Engineer - Mechanical   \n",
       "2                                   0            Engineer - Mining   \n",
       "3                                   0             Manager - Mining   \n",
       "4                                  26  Associate Manager - Finance   \n",
       "\n",
       "   Grade - latest  Date of exit (if any) (dd-mm-yyyy)  \\\n",
       "0              M7                            28-03-16   \n",
       "1              M7                            23-12-14   \n",
       "2              M7                            12-09-15   \n",
       "3              M4                            24-08-15   \n",
       "4              M6                            30-06-17   \n",
       "\n",
       "   Part of internal growth workshop (Y/N) Exited (Y/N)  \n",
       "0                                       0            1  \n",
       "1                                       0            1  \n",
       "2                                       0            1  \n",
       "3                                       0            1  \n",
       "4                                       0            0  \n",
       "\n",
       "[5 rows x 24 columns]"
      ]
     },
     "execution_count": 11,
     "metadata": {},
     "output_type": "execute_result"
    }
   ],
   "source": [
    "train.head(5)"
   ]
  },
  {
   "cell_type": "code",
   "execution_count": 12,
   "metadata": {},
   "outputs": [
    {
     "data": {
      "text/plain": [
       "Text(0,0.5,'Count of Employees')"
      ]
     },
     "execution_count": 12,
     "metadata": {},
     "output_type": "execute_result"
    },
    {
     "data": {
      "image/png": "[encoded data removed]",
      "text/plain": [
       "<matplotlib.figure.Figure at 0x8d0530f470>"
      ]
     },
     "metadata": {},
     "output_type": "display_data"
    }
   ],
   "source": [
    "fig=plt.figure()\n",
    "ax = fig.add_subplot(111)\n",
    "ax.hist(df['Total years of experience (in months) at the time of joining'],bins=10,range= (train['Total years of experience (in months) at the time of joining'].min(),train['Total years of experience (in months) at the time of joining'].max()))\n",
    "plt.title('Total years of experience (in months) at the time of joining')\n",
    "plt.xlabel('Total years of experience (in months)')\n",
    "plt.ylabel('Count of Employees')"
   ]
  },
  {
   "cell_type": "code",
   "execution_count": 13,
   "metadata": {},
   "outputs": [
    {
     "data": {
      "text/plain": [
       "Operations            606\n",
       "Maintenance           193\n",
       "Commercial             96\n",
       "Finance                71\n",
       "Lab. Services          50\n",
       "HSE                    42\n",
       "Security               33\n",
       "HR                     28\n",
       "IT                     17\n",
       "Marketing              17\n",
       "BE & AO                17\n",
       "Exploration            13\n",
       "Medical                 9\n",
       "Admin                   8\n",
       "CSR                     7\n",
       "Legal                   6\n",
       "Secy. Services          6\n",
       "Corp. Affairs           3\n",
       "Technical Services      3\n",
       "Administration          3\n",
       "Corp. Comm.             1\n",
       "Name: Function - latest, dtype: int64"
      ]
     },
     "execution_count": 13,
     "metadata": {},
     "output_type": "execute_result"
    }
   ],
   "source": [
    "train['Function - latest'].value_counts()"
   ]
  },
  {
   "cell_type": "code",
   "execution_count": 14,
   "metadata": {},
   "outputs": [],
   "source": [
    "for df in combine:\n",
    "    df['Function - latest']=df['Function - latest'].map({'IT':'IT_BE&AO_Mark_Exp','BE&AO':'IT_BE&AO_Mark_Exp','Marketing':'IT_BE&AO_Mark_Exp','Exploration':'IT_BE&AO_Mark_Exp','Medical':'Others',\n",
    "                                                    'Admin':'Others','CSR':'Others','Secy. Services':'Others','Legal':'Others','Technical Services':'Others','Administration':'Others','Corp. Affairs':'Others','Corp. Comm.':'Others',\n",
    "                                                    'Operations':'Operations','Maintenance':'Maintenance','Commercial':'Commercial','Finance':'Finance','Lab. Services':'Lab. Services','HSE':'HSE','Security':'Security','HR':'HR'})"
   ]
  },
  {
   "cell_type": "code",
   "execution_count": 15,
   "metadata": {},
   "outputs": [
    {
     "data": {
      "text/plain": [
       "<seaborn.axisgrid.FacetGrid at 0x8d04e9c4e0>"
      ]
     },
     "execution_count": 15,
     "metadata": {},
     "output_type": "execute_result"
    },
    {
     "data": {
      "image/png": "[encoded data removed]",
      "text/plain": [
       "<matplotlib.figure.Figure at 0x8d04ee8358>"
      ]
     },
     "metadata": {},
     "output_type": "display_data"
    }
   ],
   "source": [
    "g = sb.factorplot(\"Function - latest\", data=train, aspect=1.5, kind=\"count\", color=\"b\")\n",
    "g.set_xticklabels(rotation=90)"
   ]
  },
  {
   "cell_type": "code",
   "execution_count": 16,
   "metadata": {},
   "outputs": [
    {
     "data": {
      "text/plain": [
       "[Text(0,0,'Operations'),\n",
       " Text(0,0,'Maintenance'),\n",
       " Text(0,0,'Finance'),\n",
       " Text(0,0,'IT_BE&AO_Mark_Exp'),\n",
       " Text(0,0,'Commercial'),\n",
       " Text(0,0,'HSE'),\n",
       " Text(0,0,'Security'),\n",
       " Text(0,0,'Others'),\n",
       " Text(0,0,'HR'),\n",
       " Text(0,0,'Lab. Services')]"
      ]
     },
     "execution_count": 16,
     "metadata": {},
     "output_type": "execute_result"
    },
    {
     "data": {
      "image/png": "[encoded data removed]",
      "text/plain": [
       "<matplotlib.figure.Figure at 0x8d04e46358>"
      ]
     },
     "metadata": {},
     "output_type": "display_data"
    }
   ],
   "source": [
    "ax = sb.barplot(x=\"Function - latest\", y=\"Exited (Y/N)\",  data=train)\n",
    "ax.set_xticklabels(ax.get_xticklabels(), rotation=90)"
   ]
  },
  {
   "cell_type": "code",
   "execution_count": 17,
   "metadata": {},
   "outputs": [
    {
     "data": {
      "text/plain": [
       "Operations              209\n",
       "Maintenance             203\n",
       "Mining                  162\n",
       "Process                  82\n",
       "Commercial               72\n",
       "Finance                  70\n",
       "Ore Dressing             56\n",
       "Lab. Services            43\n",
       "Security                 32\n",
       "Mining Project           31\n",
       "Geology                  28\n",
       "HR                       28\n",
       "HSE                      21\n",
       "Stores                   16\n",
       "IT                       15\n",
       "Safety                   13\n",
       "Marketing                13\n",
       "Exploration              12\n",
       "Medical                   9\n",
       "Administration            9\n",
       "Environment               8\n",
       "Survey                    8\n",
       "Power                     7\n",
       "Legal                     6\n",
       "BE & AO                   5\n",
       "Paste Fill                5\n",
       "Mine Planning             5\n",
       "Asset Optimization        5\n",
       "CSR                       5\n",
       "Secy. Services            5\n",
       "Mineral Processing        4\n",
       "Corp. Affairs             3\n",
       "Admin                     3\n",
       "Rock Mechanics            3\n",
       "Technical Services        3\n",
       "Geotech                   2\n",
       "Engineering Services      2\n",
       "Business Excellence       2\n",
       "AOC                       2\n",
       "Project                   2\n",
       "Refractory                2\n",
       "Unit Head                 2\n",
       "CMPC                      1\n",
       "Projects                  1\n",
       "Geophysicist              1\n",
       "Investor Relations        1\n",
       "Business Development      1\n",
       "Location Head             1\n",
       "Ore  Dressing             1\n",
       "Mining Machinery          1\n",
       "Mining Projects           1\n",
       "Corp. Comm.               1\n",
       "Planning                  1\n",
       "Community Relations       1\n",
       " Ventilation              1\n",
       "IT                        1\n",
       "Ventillation              1\n",
       "CEO                       1\n",
       "Name: Function - during hire, dtype: int64"
      ]
     },
     "execution_count": 17,
     "metadata": {},
     "output_type": "execute_result"
    }
   ],
   "source": [
    "train['Function - during hire'].value_counts()"
   ]
  },
  {
   "cell_type": "code",
   "execution_count": null,
   "metadata": {},
   "outputs": [],
   "source": [
    "#df['Function - during hire']=df['Function - during hire'].map({'Safety':'IT':'IT_BE&AO_Mark_Exp','BE&AO':'IT_BE&AO_Mark_Exp','Marketing':'IT_BE&AO_Mark_Exp','Exploration':'IT_BE&AO_Mark_Exp','Medical':'Others','Admin':'Others','CSR':'Others','Secy. Services':'Others','Legal':'Others','Technical Services':'Others','Administration':'Others','Corp. Affairs':'Others','Corp. Comm.':'Others','Operations':'Operations','Maintenance':'Maintenance','Mining':'Mining','Process':'Process','Commercial':'Commercial','Finance':'Finance','Lab. Services':'Lab. Services','HSE':'HSE','Security':'Security','HR':'HR','Geology':'Geology',})"
   ]
  },
  {
   "cell_type": "code",
   "execution_count": 18,
   "metadata": {},
   "outputs": [
    {
     "data": {
      "text/plain": [
       "Mining                              252\n",
       "Process                             155\n",
       "Mechanical                           99\n",
       "Finance                              69\n",
       "Ore Dressing                         65\n",
       "Electrical                           53\n",
       "Lab. Services                        47\n",
       "Geology                              34\n",
       "Stores                               33\n",
       "Security                             33\n",
       "HR                                   28\n",
       "Safety                               28\n",
       "Instrumentation                      22\n",
       "Purchase                             21\n",
       "Marketing                            17\n",
       "Environment                          14\n",
       "Power                                14\n",
       "Exploration                          13\n",
       "Asset Optimization                   12\n",
       "Procurement                          12\n",
       "Metallurgy & Material                11\n",
       "IT                                   11\n",
       "Administration                       10\n",
       "Geotech                               9\n",
       "Medical                               9\n",
       "Survey                                9\n",
       "Civil                                 9\n",
       "Weighbridge                           8\n",
       "Logistics                             8\n",
       "Mining Project                        7\n",
       "                                   ... \n",
       "Location Head                         2\n",
       "Technical Services                    2\n",
       "CICC                                  2\n",
       "Production & Process Engineering      2\n",
       "Planning                              2\n",
       "Manufacturing                         2\n",
       "Rock Mechanics                        2\n",
       "Unit Head                             2\n",
       "Executive Assistance                  2\n",
       "Chemical                              1\n",
       "COO - Smelters                        1\n",
       "Land Acquisition                      1\n",
       "Scrap                                 1\n",
       "Corp. Comm.                           1\n",
       "Sales & Dispatch                      1\n",
       "Investor Relations                    1\n",
       "Smelting                              1\n",
       "ARC                                   1\n",
       "Business Development                  1\n",
       "Diamond Drilling                      1\n",
       "CMPC                                  1\n",
       "Mine Design                           1\n",
       "IT                                    1\n",
       "ISO Cell                              1\n",
       "Executive                             1\n",
       "Power                                 1\n",
       "0                                     1\n",
       "MIS                                   1\n",
       "Mining Machinery                      1\n",
       "Process - CPP                         1\n",
       "Name: Sub-Function, Length: 79, dtype: int64"
      ]
     },
     "execution_count": 18,
     "metadata": {},
     "output_type": "execute_result"
    }
   ],
   "source": [
    "train['Sub-Function'].value_counts()"
   ]
  },
  {
   "cell_type": "code",
   "execution_count": 19,
   "metadata": {},
   "outputs": [
    {
     "data": {
      "text/plain": [
       "Operations               197\n",
       "Mining                   169\n",
       "Maintenance               90\n",
       "Process                   82\n",
       "Finance                   70\n",
       "Mechanical                59\n",
       "Ore Dressing              56\n",
       "Commercial                49\n",
       "Lab. Services             43\n",
       "Security                  32\n",
       "Mining Project            31\n",
       "Geology                   30\n",
       "HR                        28\n",
       "Electrical                28\n",
       "HSE                       21\n",
       "Instrumentation           19\n",
       "Stores                    16\n",
       "Purchase                  14\n",
       "Safety                    13\n",
       "Marketing                 13\n",
       "Exploration               12\n",
       "IT                        12\n",
       "Medical                    9\n",
       "Survey                     8\n",
       "Power                      8\n",
       "Environment                8\n",
       "Administration             8\n",
       "Legal                      6\n",
       "BE & AO                    5\n",
       "Weighbridge                5\n",
       "                        ... \n",
       "Rock Mechanics             3\n",
       "Admin                      3\n",
       "Refractory                 2\n",
       "Geotech                    2\n",
       "Engineering Services       2\n",
       "Unit Head                  2\n",
       "Business Excellence        2\n",
       "Manufacturing              2\n",
       "Project                    2\n",
       "AOC                        2\n",
       "Planning                   1\n",
       "CMPC                       1\n",
       "Land Acquisition           1\n",
       "Investor Relations         1\n",
       "Geophysicist               1\n",
       "Scrap                      1\n",
       "Metallurgy & Material      1\n",
       "Business Development       1\n",
       " Ventilation               1\n",
       "CEO                        1\n",
       "Smelting                   1\n",
       "Projects                   1\n",
       "Ore  Dressing              1\n",
       "IT                         1\n",
       "Community Relations        1\n",
       "Location Head              1\n",
       "Mining Projects            1\n",
       "Mining Machinery           1\n",
       "Corp. Comm.                1\n",
       "Ventillation               1\n",
       "Name: Sub-Function - during hire, Length: 71, dtype: int64"
      ]
     },
     "execution_count": 19,
     "metadata": {},
     "output_type": "execute_result"
    }
   ],
   "source": [
    "train['Sub-Function - during hire'].value_counts()"
   ]
  },
  {
   "cell_type": "code",
   "execution_count": 20,
   "metadata": {},
   "outputs": [
    {
     "data": {
      "text/plain": [
       "GET - Mining                                 175\n",
       "B.Sc Trainee                                  98\n",
       "Engineer - Mining                             38\n",
       "Associate - Process                           37\n",
       "GET - Ore Dressing                            31\n",
       "B.Sc. Trainee                                 30\n",
       "GET - Mechanical                              30\n",
       "Associate Manager - Mechanical                29\n",
       "Engineer - Mechanical                         23\n",
       "Engineer - Electrical                         21\n",
       "Jr. Executive - Process                       20\n",
       "Geologist Trainee                             19\n",
       "B.Com Trainee                                 19\n",
       "Associate Manager - Mining                    18\n",
       "GET - Electrical                              17\n",
       "GET - Process                                 17\n",
       "Associate Manager - Process                   14\n",
       "Associate Manager - Finance                   14\n",
       "GET - Instrumentation                         13\n",
       "Engineer - Ore Dressing                       13\n",
       "Associate Manager - HR                        13\n",
       "Jr. Security Officer Trainee                  13\n",
       "Associate Manager - Commercial                12\n",
       "B Com Trainee                                 12\n",
       "B Sc Trainee                                  12\n",
       "Engineer - Metallurgy                         11\n",
       "PGET - Power                                  10\n",
       "Management Trainee - Finance                  10\n",
       "Engineer � Mechanical                          9\n",
       "Geologist                                      9\n",
       "                                            ... \n",
       "Associate - Administration                     1\n",
       "Head - Operations                              1\n",
       "PGET - Environment                             1\n",
       "GeologistTrainee                               1\n",
       "Associate GM - Engg. Services                  1\n",
       "Advisor - Survey                               1\n",
       "Associate Vice President - Logistics           1\n",
       "Advisor - Mining                               1\n",
       "Jr. Executive - Survey                         1\n",
       "General Manager - Projects                     1\n",
       "Vice President                                 1\n",
       "Vice President - Projects                      1\n",
       "Associate GM - Environment                     1\n",
       "Head - Laboratory                              1\n",
       "Sr. Manager - Survey                           1\n",
       "Jr. Executive - Mining                         1\n",
       "Engineer - SAP                                 1\n",
       "Engineer - OD                                  1\n",
       "Associate GM -  Ventilation                    1\n",
       "Jr. Executive - Diamond Drilling               1\n",
       "PGET - Geomatics                               1\n",
       "Associate CMO                                  1\n",
       "Manager - Process                              1\n",
       "Head - Security                                1\n",
       "Manager-Marketing                              1\n",
       "Associate Vice President - Rock Mechanics      1\n",
       "Mine Surveyor Expert-RA/UG                     1\n",
       "Executive - Marketing                          1\n",
       "Executive - Secy. Services                     1\n",
       "Associate Manager - Refractory                 1\n",
       "Name: Designation - during hire, Length: 245, dtype: int64"
      ]
     },
     "execution_count": 20,
     "metadata": {},
     "output_type": "execute_result"
    }
   ],
   "source": [
    "train['Designation - during hire'].value_counts()"
   ]
  },
  {
   "cell_type": "code",
   "execution_count": 21,
   "metadata": {},
   "outputs": [
    {
     "data": {
      "text/plain": [
       "Engineer - Mining                            192\n",
       "Associate - Process                           82\n",
       "Engineer - Mechanical                         45\n",
       "B.Sc Trainee                                  44\n",
       "Engineer - Ore Dressing                       35\n",
       "Engineer - Electrical                         34\n",
       "Associate Manager - Mechanical                33\n",
       "Geologist                                     27\n",
       "Associate - Commercial                        27\n",
       "Associate Manager - Finance                   27\n",
       "Engineer - Process                            24\n",
       "GET - Mining                                  20\n",
       "Jr. Executive - Process                       20\n",
       "Associate Manager - Commercial                19\n",
       "Associate - Lab. Services                     19\n",
       "Associate Manager - Mining                    19\n",
       "Jr. Security Officer                          17\n",
       "Associate - Ore Dressing                      15\n",
       "Engineer - Power                              15\n",
       "Associate Manager - Process                   13\n",
       "Engineer - Instrumentation                    13\n",
       "Associate Manager - HR                        13\n",
       "Associate - Finance                           12\n",
       "Engineer - Metallurgy                         11\n",
       "GET - Mechanical                              10\n",
       "Associate Manager - Marketing                 10\n",
       "Executive - Finance                           10\n",
       "Executive - Commercial                         9\n",
       "Process Associate                              9\n",
       "B.Sc. Trainee                                  9\n",
       "                                            ... \n",
       "Manager - Marketing                            1\n",
       "Executive - Instrumentation                    1\n",
       "Head -  Technical Services                     1\n",
       "Engineer - Environment                         1\n",
       "Executive - Lab. Services                      1\n",
       "Associate - HSE                                1\n",
       "Advisor - Corp. Affairs                        1\n",
       "Associate Manager - South Marketing(Zinc)      1\n",
       "Associate GM - Legal & Dy Head Legal           1\n",
       "Head - Technical (Mining)                      1\n",
       "Advisor - Exploration                          1\n",
       "Associate GM - Lab. Services                   1\n",
       "Head - Exploration                             1\n",
       "B.Com Trainee                                  1\n",
       "President - Global Zinc Business               1\n",
       "Engineer - Mining Machinery                    1\n",
       "Jr. Executive - Survey                         1\n",
       "Advisor - Mining                               1\n",
       "Engineer - Chemical                            1\n",
       "Advisor - Survey                               1\n",
       "Geologist                                      1\n",
       "Associate GM - Engg. Services                  1\n",
       "Geomatist                                      1\n",
       "Associate GM - Business Excellence             1\n",
       "Associate Manager - Secy. Services             1\n",
       "Associate- Ore Dressing                        1\n",
       "Head - Operations                              1\n",
       "Advisor - Civil                                1\n",
       "Associate Manager - Power                      1\n",
       "Assitant Security Officer                      1\n",
       "Name: Designation - latest, Length: 242, dtype: int64"
      ]
     },
     "execution_count": 21,
     "metadata": {},
     "output_type": "execute_result"
    }
   ],
   "source": [
    "train['Designation - latest'].value_counts()"
   ]
  },
  {
   "cell_type": "code",
   "execution_count": 22,
   "metadata": {},
   "outputs": [
    {
     "data": {
      "text/plain": [
       "M7    553\n",
       "M9    265\n",
       "M6    168\n",
       "M4     80\n",
       "M8     53\n",
       "M5     40\n",
       "M2     27\n",
       "M3     26\n",
       "M1     16\n",
       "P       1\n",
       "Name: Grade - during hire, dtype: int64"
      ]
     },
     "execution_count": 22,
     "metadata": {},
     "output_type": "execute_result"
    }
   ],
   "source": [
    "train['Grade - during hire'].value_counts()"
   ]
  },
  {
   "cell_type": "code",
   "execution_count": 23,
   "metadata": {},
   "outputs": [
    {
     "data": {
      "text/plain": [
       "M7    537\n",
       "M9    251\n",
       "M6    175\n",
       "M4     79\n",
       "M8     65\n",
       "M5     51\n",
       "M3     28\n",
       "M2     25\n",
       "M1     17\n",
       "P       1\n",
       "Name: Grade - latest, dtype: int64"
      ]
     },
     "execution_count": 23,
     "metadata": {},
     "output_type": "execute_result"
    }
   ],
   "source": [
    "train['Grade - latest'].value_counts()"
   ]
  },
  {
   "cell_type": "code",
   "execution_count": 24,
   "metadata": {},
   "outputs": [
    {
     "name": "stdout",
     "output_type": "stream",
     "text": [
      "                        Sub-Function  Exited (Y/N)\n",
      "39                     Manufacturing      1.000000\n",
      "60  Production & Process Engineering      1.000000\n",
      "30              Improvement Projects      1.000000\n",
      "32                Investor Relations      1.000000\n",
      "34                  Land Acquisition      1.000000\n",
      "36                     Location Head      1.000000\n",
      "42                           Medical      1.000000\n",
      "49                    Mining Project      1.000000\n",
      "56                            Power       1.000000\n",
      "58                     Process - CPP      1.000000\n",
      "61                          Projects      1.000000\n",
      "27                          ISO Cell      1.000000\n",
      "62                          Purchase      1.000000\n",
      "64                    Rock Mechanics      1.000000\n",
      "65                               SAP      1.000000\n",
      "68                             Scrap      1.000000\n",
      "70                    Secy. Services      1.000000\n",
      "74                Technical Services      1.000000\n",
      "75                         Unit Head      1.000000\n",
      "76                      Ventillation      1.000000\n",
      "29                               IT       1.000000\n",
      "78                         Windpower      1.000000\n",
      "12                  Coal Procurement      1.000000\n",
      "7                               CMPC      1.000000\n",
      "16                  Diamond Drilling      1.000000\n",
      "4               Business Development      1.000000\n",
      "6                               CICC      1.000000\n",
      "3                 Asset Optimization      1.000000\n",
      "15                       Corp. Comm.      1.000000\n",
      "5                Business Excellence      1.000000\n",
      "..                               ...           ...\n",
      "37                         Logistics      0.750000\n",
      "59                       Procurement      0.750000\n",
      "72                            Stores      0.727273\n",
      "23                           Finance      0.710145\n",
      "2                     Administration      0.700000\n",
      "11                             Civil      0.666667\n",
      "50                               O&M      0.666667\n",
      "35                             Legal      0.666667\n",
      "26                                HR      0.642857\n",
      "55                             Power      0.642857\n",
      "53                        Paste Fill      0.600000\n",
      "13                        Commercial      0.571429\n",
      "9                                CSR      0.571429\n",
      "73                            Survey      0.555556\n",
      "54                          Planning      0.500000\n",
      "63                        Refractory      0.500000\n",
      "18                    Engg. Services      0.500000\n",
      "47                            Mining      0.400794\n",
      "46                Mineral Processing      0.250000\n",
      "43             Metallurgy & Material      0.090909\n",
      "38                              MIS       0.000000\n",
      "20                         Executive      0.000000\n",
      "67                  Sales & Dispatch      0.000000\n",
      "71                          Smelting      0.000000\n",
      "1                                ARC      0.000000\n",
      "44                       Mine Design      0.000000\n",
      "48                  Mining Machinery      0.000000\n",
      "10                          Chemical      0.000000\n",
      "52                      Ore-Dressing      0.000000\n",
      "0                                  0      0.000000\n",
      "\n",
      "[79 rows x 2 columns]\n"
     ]
    }
   ],
   "source": [
    "# Sub-Function vs Exited (Y/N)\n",
    "print(train[['Sub-Function', 'Exited (Y/N)']].groupby(['Sub-Function'], as_index=False).mean().sort_values(by='Exited (Y/N)', ascending=False))"
   ]
  },
  {
   "cell_type": "code",
   "execution_count": 25,
   "metadata": {},
   "outputs": [
    {
     "name": "stdout",
     "output_type": "stream",
     "text": [
      "  Nature of employment (Advisory/ Retainer/ Contractual /Permanent)  \\\n",
      "2                                           Retainer                  \n",
      "0                                              Expat                  \n",
      "1                                          Permanent                  \n",
      "\n",
      "   Exited (Y/N)  \n",
      "2      0.957447  \n",
      "0      0.833333  \n",
      "1      0.711111  \n"
     ]
    }
   ],
   "source": [
    "# Nature of employment vs Exited (Y/N)\n",
    "print(train[['Nature of employment (Advisory/ Retainer/ Contractual /Permanent)', 'Exited (Y/N)']].groupby(['Nature of employment (Advisory/ Retainer/ Contractual /Permanent)'], as_index=False).mean().sort_values(by='Exited (Y/N)', ascending=False))"
   ]
  },
  {
   "cell_type": "code",
   "execution_count": 26,
   "metadata": {},
   "outputs": [
    {
     "name": "stdout",
     "output_type": "stream",
     "text": [
      "   Hipo Status  Exited (Y/N)\n",
      "1            1      0.871795\n",
      "0            0      0.716807\n"
     ]
    }
   ],
   "source": [
    "# Hipo Status vs Exited (Y/N)\n",
    "print(train[['Hipo Status', 'Exited (Y/N)']].groupby(['Hipo Status'], as_index=False).mean().sort_values(by='Exited (Y/N)', ascending=False))"
   ]
  },
  {
   "cell_type": "code",
   "execution_count": 27,
   "metadata": {},
   "outputs": [
    {
     "name": "stdout",
     "output_type": "stream",
     "text": [
      "   V Connect  Exited (Y/N)\n",
      "1          1      0.833333\n",
      "0          0      0.721177\n"
     ]
    }
   ],
   "source": [
    "# V Connect vs Exited (Y/N)\n",
    "print(train[['V Connect', 'Exited (Y/N)']].groupby(['V Connect'], as_index=False).mean().sort_values(by='Exited (Y/N)', ascending=False))"
   ]
  },
  {
   "cell_type": "code",
   "execution_count": 28,
   "metadata": {},
   "outputs": [
    {
     "name": "stdout",
     "output_type": "stream",
     "text": [
      "   Sub-Function - during hire  Exited (Y/N)\n",
      "0                 Ventilation      1.000000\n",
      "17       Engineering Services      1.000000\n",
      "39                    Medical      1.000000\n",
      "48              Ore  Dressing      1.000000\n",
      "36              Manufacturing      1.000000\n",
      "1                         AOC      1.000000\n",
      "51                   Planning      1.000000\n",
      "33              Location Head      1.000000\n",
      "31           Land Acquisition      1.000000\n",
      "29         Investor Relations      1.000000\n",
      "27                        IT       1.000000\n",
      "23                    Geotech      1.000000\n",
      "54                    Project      1.000000\n",
      "55                   Projects      1.000000\n",
      "46            Mining Projects      1.000000\n",
      "61                      Scrap      1.000000\n",
      "59                        SAP      1.000000\n",
      "9                        CMPC      1.000000\n",
      "68                  Unit Head      1.000000\n",
      "2                       Admin      1.000000\n",
      "69               Ventillation      1.000000\n",
      "4          Asset Optimization      1.000000\n",
      "5                     BE & AO      1.000000\n",
      "6        Business Development      1.000000\n",
      "7         Business Excellence      1.000000\n",
      "8                         CEO      1.000000\n",
      "15                Corp. Comm.      1.000000\n",
      "40      Metallurgy & Material      1.000000\n",
      "13        Community Relations      1.000000\n",
      "14              Corp. Affairs      1.000000\n",
      "..                        ...           ...\n",
      "70                Weighbridge      0.800000\n",
      "11                      Civil      0.800000\n",
      "41              Mine Planning      0.800000\n",
      "35                Maintenance      0.788889\n",
      "38                 Mechanical      0.779661\n",
      "21                    Geology      0.733333\n",
      "49               Ore Dressing      0.714286\n",
      "20                    Finance      0.714286\n",
      "56                   Purchase      0.714286\n",
      "47                 Operations      0.695431\n",
      "32                      Legal      0.666667\n",
      "67         Technical Services      0.666667\n",
      "58             Rock Mechanics      0.666667\n",
      "24                         HR      0.642857\n",
      "18                Environment      0.625000\n",
      "65                     Stores      0.625000\n",
      "60                     Safety      0.615385\n",
      "10                        CSR      0.600000\n",
      "63             Secy. Services      0.600000\n",
      "50                 Paste Fill      0.600000\n",
      "45             Mining Project      0.548387\n",
      "57                 Refractory      0.500000\n",
      "3              Administration      0.500000\n",
      "43                     Mining      0.426036\n",
      "66                     Survey      0.375000\n",
      "34                  Logistics      0.333333\n",
      "42         Mineral Processing      0.250000\n",
      "44           Mining Machinery      0.000000\n",
      "64                   Smelting      0.000000\n",
      "22               Geophysicist      0.000000\n",
      "\n",
      "[71 rows x 2 columns]\n"
     ]
    }
   ],
   "source": [
    "#Sub-Function - during hire vs Exited (Y/N)\n",
    "print(train[['Sub-Function - during hire', 'Exited (Y/N)']].groupby(['Sub-Function - during hire'], as_index=False).mean().sort_values(by='Exited (Y/N)', ascending=False))"
   ]
  },
  {
   "cell_type": "code",
   "execution_count": 29,
   "metadata": {},
   "outputs": [
    {
     "name": "stdout",
     "output_type": "stream",
     "text": [
      "                Designation - during hire  Exited (Y/N)\n",
      "122                 Executive - Marketing      1.000000\n",
      "146            General Manager - Projects      1.000000\n",
      "149                      GeologistTrainee      1.000000\n",
      "150                          Geophysicist      1.000000\n",
      "152     Geophysicist Trainee - Geophysics      1.000000\n",
      "153            Head -  Technical Services      1.000000\n",
      "155                  Head - Geo Technical      1.000000\n",
      "156                     Head - Laboratory      1.000000\n",
      "157                  Head - Mine Planning      1.000000\n",
      "159                       Head - Security      1.000000\n",
      "160             Head - Technical (Mining)      1.000000\n",
      "161             Head - Technical Services      1.000000\n",
      "162           Head � Engineering Services      1.000000\n",
      "163                           Jr. Chemist      1.000000\n",
      "164                   Jr. Chemist Trainee      1.000000\n",
      "165               Jr. Environment Trainee      1.000000\n",
      "166        Jr. Executive - Administration      1.000000\n",
      "167            Jr. Executive - Commercial      1.000000\n",
      "168      Jr. Executive - Diamond Drilling      1.000000\n",
      "169               Jr. Executive - Finance      1.000000\n",
      "170         Jr. Executive - Lab. Services      1.000000\n",
      "171             Jr. Executive - Logistics      1.000000\n",
      "172            Jr. Executive - Mechanical      1.000000\n",
      "173                Jr. Executive - Mining      1.000000\n",
      "174               Jr. Executive - Process      1.000000\n",
      "147                             Geologist      1.000000\n",
      "145        General Manager - Ore Dressing      1.000000\n",
      "176                Jr. Executive - Survey      1.000000\n",
      "144  General Manager - Investor Relations      1.000000\n",
      "110                    Engineer - Process      1.000000\n",
      "..                                    ...           ...\n",
      "59              Associate Manager - Legal      0.500000\n",
      "47              Associate Manager - Civil      0.500000\n",
      "182          Management Trainee - Finance      0.500000\n",
      "52        Associate Manager - Environment      0.500000\n",
      "134                          GET - Mining      0.394286\n",
      "85                          B.Com Trainee      0.368421\n",
      "83                          B Com Trainee      0.333333\n",
      "181       Management Trainee - Commercial      0.333333\n",
      "207                  Officer Trainee - HR      0.333333\n",
      "84                           B Sc Trainee      0.250000\n",
      "133              GET - Mineral Processing      0.250000\n",
      "106                     Engineer - Mining      0.236842\n",
      "135                GET - Mining Machinery      0.200000\n",
      "105                 Engineer - Metallurgy      0.090909\n",
      "238                  Vice President - CSR      0.000000\n",
      "94       Chief Security Officer & Manager      0.000000\n",
      "96                    Engineer - Chemical      0.000000\n",
      "97                       Engineer - Civil      0.000000\n",
      "90          Chief Commercial Officer & VP      0.000000\n",
      "123            Executive - Secy. Services      0.000000\n",
      "37   Associate GM - Legal & Dy Head Legal      0.000000\n",
      "129                GET - Instrumemntation      0.000000\n",
      "88     COO - Smelters & Sr.Vice President      0.000000\n",
      "75                   Associate Manager-HR      0.000000\n",
      "154                    Head - Exploration      0.000000\n",
      "158                     Head - Operations      0.000000\n",
      "69         Associate Manager - Refractory      0.000000\n",
      "212                         PGET - Safety      0.000000\n",
      "210                      PGET - Geomatics      0.000000\n",
      "151                         Geophysicist       0.000000\n",
      "\n",
      "[245 rows x 2 columns]\n"
     ]
    }
   ],
   "source": [
    "#Designation - during hire vs Exited (Y/N)\n",
    "print(train[['Designation - during hire', 'Exited (Y/N)']].groupby(['Designation - during hire'], as_index=False).mean().sort_values(by='Exited (Y/N)', ascending=False))"
   ]
  },
  {
   "cell_type": "code",
   "execution_count": 30,
   "metadata": {},
   "outputs": [
    {
     "name": "stdout",
     "output_type": "stream",
     "text": [
      "   Function - latest  Exited (Y/N)\n",
      "9           Security      0.909091\n",
      "4  IT_BE&AO_Mark_Exp      0.851064\n",
      "6        Maintenance      0.829016\n",
      "3                HSE      0.809524\n",
      "8             Others      0.804348\n",
      "5      Lab. Services      0.800000\n",
      "0         Commercial      0.791667\n",
      "1            Finance      0.704225\n",
      "2                 HR      0.642857\n",
      "7         Operations      0.635314\n"
     ]
    }
   ],
   "source": [
    "#Function - latest vs Exited (Y/N)\n",
    "print(train[['Function - latest', 'Exited (Y/N)']].groupby(['Function - latest'], as_index=False).mean().sort_values(by='Exited (Y/N)', ascending=False))"
   ]
  },
  {
   "cell_type": "code",
   "execution_count": 31,
   "metadata": {},
   "outputs": [
    {
     "data": {
      "text/plain": [
       "Operations           606\n",
       "Maintenance          193\n",
       "Commercial            96\n",
       "Finance               71\n",
       "Lab. Services         50\n",
       "IT_BE&AO_Mark_Exp     47\n",
       "Others                46\n",
       "HSE                   42\n",
       "Security              33\n",
       "HR                    28\n",
       "Name: Function - latest, dtype: int64"
      ]
     },
     "execution_count": 31,
     "metadata": {},
     "output_type": "execute_result"
    }
   ],
   "source": [
    "train['Function - latest'].value_counts()"
   ]
  },
  {
   "cell_type": "code",
   "execution_count": 32,
   "metadata": {},
   "outputs": [
    {
     "name": "stdout",
     "output_type": "stream",
     "text": [
      "   Leaders connect member (Y/N)  Exited (Y/N)\n",
      "1                             1       1.00000\n",
      "0                             0       0.72036\n"
     ]
    }
   ],
   "source": [
    "#Leaders connect member (Y/N) vs Exited (Y/N) \n",
    "print(train[['Leaders connect member (Y/N)', 'Exited (Y/N)']].groupby(['Leaders connect member (Y/N)'], as_index=False).mean().sort_values(by='Exited (Y/N)', ascending=False))"
   ]
  },
  {
   "cell_type": "code",
   "execution_count": 33,
   "metadata": {},
   "outputs": [
    {
     "name": "stdout",
     "output_type": "stream",
     "text": [
      "   Function - during hire  Exited (Y/N)\n",
      "0             Ventilation      1.000000\n",
      "15   Engineering Services      1.000000\n",
      "56              Unit Head      1.000000\n",
      "47               Projects      1.000000\n",
      "46                Project      1.000000\n",
      "44                  Power      1.000000\n",
      "43               Planning      1.000000\n",
      "40          Ore  Dressing      1.000000\n",
      "38        Mining Projects      1.000000\n",
      "32                Medical      1.000000\n",
      "1                     AOC      1.000000\n",
      "26     Investor Relations      1.000000\n",
      "25                    IT       1.000000\n",
      "21                Geotech      1.000000\n",
      "29          Location Head      1.000000\n",
      "14            Corp. Comm.      1.000000\n",
      "12    Community Relations      1.000000\n",
      "2                   Admin      1.000000\n",
      "4      Asset Optimization      1.000000\n",
      "5                 BE & AO      1.000000\n",
      "6    Business Development      1.000000\n",
      "7     Business Excellence      1.000000\n",
      "8                     CEO      1.000000\n",
      "9                    CMPC      1.000000\n",
      "57           Ventillation      1.000000\n",
      "13          Corp. Affairs      1.000000\n",
      "23                    HSE      0.952381\n",
      "51               Security      0.937500\n",
      "24                     IT      0.933333\n",
      "17            Exploration      0.916667\n",
      "27          Lab. Services      0.883721\n",
      "31              Marketing      0.846154\n",
      "45                Process      0.841463\n",
      "11             Commercial      0.819444\n",
      "30            Maintenance      0.817734\n",
      "33          Mine Planning      0.800000\n",
      "18                Finance      0.714286\n",
      "19                Geology      0.714286\n",
      "41           Ore Dressing      0.714286\n",
      "39             Operations      0.703349\n",
      "28                  Legal      0.666667\n",
      "55     Technical Services      0.666667\n",
      "49         Rock Mechanics      0.666667\n",
      "22                     HR      0.642857\n",
      "16            Environment      0.625000\n",
      "53                 Stores      0.625000\n",
      "50                 Safety      0.615385\n",
      "52         Secy. Services      0.600000\n",
      "42             Paste Fill      0.600000\n",
      "10                    CSR      0.600000\n",
      "3          Administration      0.555556\n",
      "37         Mining Project      0.548387\n",
      "48             Refractory      0.500000\n",
      "35                 Mining      0.401235\n",
      "54                 Survey      0.375000\n",
      "34     Mineral Processing      0.250000\n",
      "20           Geophysicist      0.000000\n",
      "36       Mining Machinery      0.000000\n"
     ]
    }
   ],
   "source": [
    "#Function - during hire vs Exited (Y/N) \n",
    "print(train[['Function - during hire', 'Exited (Y/N)']].groupby(['Function - during hire'], as_index=False).mean().sort_values(by='Exited (Y/N)', ascending=False))"
   ]
  },
  {
   "cell_type": "code",
   "execution_count": 34,
   "metadata": {},
   "outputs": [
    {
     "name": "stdout",
     "output_type": "stream",
     "text": [
      "  Grade - during hire  Exited (Y/N)\n",
      "7                  M8      1.000000\n",
      "9                   P      1.000000\n",
      "1                  M2      0.962963\n",
      "3                  M4      0.937500\n",
      "4                  M5      0.925000\n",
      "2                  M3      0.923077\n",
      "5                  M6      0.809524\n",
      "8                  M9      0.698113\n",
      "0                  M1      0.687500\n",
      "6                  M7      0.613020\n"
     ]
    }
   ],
   "source": [
    "#Grade - during hire vs Exited (Y/N) \n",
    "print(train[['Grade - during hire', 'Exited (Y/N)']].groupby(['Grade - during hire'], as_index=False).mean().sort_values(by='Exited (Y/N)', ascending=False))"
   ]
  },
  {
   "cell_type": "code",
   "execution_count": 35,
   "metadata": {},
   "outputs": [
    {
     "name": "stdout",
     "output_type": "stream",
     "text": [
      "                                             Institute  Exited (Y/N)\n",
      "0     - , Shri Varalakshim Polytechnic, CAD-CAM Tec...           1.0\n",
      "465                  NATIONAL POWER TRAINING INSTITUTE           1.0\n",
      "442  Manipal Institute of Technology-Manipal - Mani...           1.0\n",
      "443                                 Manipal University           1.0\n",
      "444                Medicaps Inst of T & M, RGPV-Bhopal           1.0\n",
      "445           Medicaps Inst of Tech & Mgt Indore, RGPU           1.0\n",
      "449  Mepco Schlenk Engg College - Anna University-C...           1.0\n",
      "450          Mithibai College - Mumbai University,ICAI           1.0\n",
      "464                                             NALSAR           1.0\n",
      "466                             NDB Govt College-Nohar           1.0\n",
      "483                                        NIT, Trichy           1.0\n",
      "467   NEC-Nellore - JNTUA-Anantapur, NPTI-Neyveli (TN)           1.0\n",
      "468                          NIE-MYSORE - NIE-MYSORE,            1.0\n",
      "469                      NIT , Raipur - NIT-Raipur, ,            1.0\n",
      "470                           NIT - NIT,,IMT-Ghaziabad           1.0\n",
      "473                                    NIT Kurulshetra           1.0\n",
      "475                                         NIT Raipur           1.0\n",
      "477                                      NIT, Durgapur           1.0\n",
      "441  Manipal Inst of Technology - Manipal Universit...           1.0\n",
      "440  Malaviya National Institute of Technology, Jaipur           1.0\n",
      "439   Maharja College,Jaipur - University of Rajasthan           1.0\n",
      "436   Maharani College - University of Rajasthan, ICAI           1.0\n",
      "417                                    MPUAT-Udaipur,            1.0\n",
      "418         MRCE-Faridabad - MDU-Rohtak, NPTI-Badarpur           1.0\n",
      "419  MREC-Jaipur - University of Rajasthan, BTER-Jo...           1.0\n",
      "420  MS Engg. College - Anna University Chennai, II...           1.0\n",
      "421                               MS University-Baroda           1.0\n",
      "422         MS University-Baroda, MS University-Baroda           1.0\n",
      "423                              MSG College-Bharatpur           1.0\n",
      "426  Maharaja College - University of Rajasthan, Sy...           1.0\n",
      "..                                                 ...           ...\n",
      "438       Maharashi Dayanand Sarawati University,Ajmer           0.0\n",
      "641  Sambalpur University(Burla), Utkal University(...           0.0\n",
      "74      Biju Patnaik University of Technology Rourkela           0.0\n",
      "168                             GOVT COLLEGE SURATGARH           0.0\n",
      "361                   MBMEC-Jodhpur - JNVU-Jodhpur, ,            0.0\n",
      "170                  GOVT.MAHATMA GANDHI COLLEGE,JAWAD           0.0\n",
      "70   Bengal College of Engg & Tech - West Bengal Un...           0.0\n",
      "359                                      MBMEC-Jodhpur           0.0\n",
      "629            SRM University Chennai, I.M.I New Delhi           0.0\n",
      "85                                  CSVTU, NPTI Nagpur           0.0\n",
      "527         Nirma Inst of Inst. - Nirma University, ,            0.0\n",
      "156                       GBTU-Lucknow, IETE-New Delhi           0.0\n",
      "253                                            IIT-BHU           0.0\n",
      "145  Dr TTIT-KGF - Visvesvaraya Tech University-Bel...           0.0\n",
      "146                     Dr. T.thiammiah Institue of Te           0.0\n",
      "256                                  IIT-BHU-Varanasi            0.0\n",
      "611                            SHEKHAWATI COLEGE SIKAR           0.0\n",
      "99                                 Calcutta University           0.0\n",
      "382                                               MLSU           0.0\n",
      "424                              MSJ COLLEGE BHARATPUR           0.0\n",
      "380          ML Govt Post Graduate College-Chittorgarh           0.0\n",
      "258     IIT-Kharagpur - IIT-Kharagpur, , IIT-Kharagpur           0.0\n",
      "618                              SMB COLLEGE,NATHDWARA           0.0\n",
      "619                         SMDBG PG College-Nathdwara           0.0\n",
      "425  MVGR College of Engg - JNTU-Kakinada, AU Colle...           0.0\n",
      "536  Orissa School of Mining Engg-Keonjhar - Biju P...           0.0\n",
      "222                           Gujarat University, ICAI           0.0\n",
      "89                                        CTAE Udaipur           0.0\n",
      "428  Maharaja College-Jaipur - University of Rajast...           0.0\n",
      "311                               Kota University Kota           0.0\n",
      "\n",
      "[735 rows x 2 columns]\n"
     ]
    }
   ],
   "source": [
    "#Institute vs Exited (Y/N) \n",
    "print(train[['Institute', 'Exited (Y/N)']].groupby(['Institute'], as_index=False).mean().sort_values(by='Exited (Y/N)', ascending=False))"
   ]
  },
  {
   "cell_type": "code",
   "execution_count": 36,
   "metadata": {},
   "outputs": [
    {
     "name": "stdout",
     "output_type": "stream",
     "text": [
      "   Benchmark company visit (Y/N)  Exited (Y/N)\n",
      "1                              1      0.875000\n",
      "0                              0      0.715495\n"
     ]
    }
   ],
   "source": [
    "#Benchmark company visit (Y/N) vs Exited (Y/N) \n",
    "print(train[['Benchmark company visit (Y/N)', 'Exited (Y/N)']].groupby(['Benchmark company visit (Y/N)'], as_index=False).mean().sort_values(by='Exited (Y/N)', ascending=False))"
   ]
  },
  {
   "cell_type": "code",
   "execution_count": 37,
   "metadata": {},
   "outputs": [
    {
     "name": "stdout",
     "output_type": "stream",
     "text": [
      "   Star of business (Y/N)  Exited (Y/N)\n",
      "1                       1      0.862069\n",
      "0                       0      0.718333\n"
     ]
    }
   ],
   "source": [
    "#Star of business (Y/N) vs Exited (Y/N) \n",
    "print(train[['Star of business (Y/N)', 'Exited (Y/N)']].groupby(['Star of business (Y/N)'], as_index=False).mean().sort_values(by='Exited (Y/N)', ascending=False))"
   ]
  },
  {
   "cell_type": "code",
   "execution_count": 38,
   "metadata": {},
   "outputs": [
    {
     "name": "stdout",
     "output_type": "stream",
     "text": [
      "                          Designation - latest  Exited (Y/N)\n",
      "241       Vice President � Community Relations      1.000000\n",
      "134                            Executive - HR       1.000000\n",
      "124                             Engineer - SAP      1.000000\n",
      "126                      Engineer � Electrical      1.000000\n",
      "127                      Engineer � Mechanical      1.000000\n",
      "128                          Engineer � Mining      1.000000\n",
      "129                           Environmentalist      1.000000\n",
      "130                            Executive - CSR      1.000000\n",
      "131                     Executive - Commercial      1.000000\n",
      "206                          Officer - Finance      1.000000\n",
      "205                 Mine Surveyor Expert-RA/UG      1.000000\n",
      "135                Executive - Instrumentation      1.000000\n",
      "93                               B Com Trainee      1.000000\n",
      "136                  Executive - Lab. Services      1.000000\n",
      "137                      Executive - Marketing      1.000000\n",
      "204                              Mine Surveyor      1.000000\n",
      "139                     Front Office Executive      1.000000\n",
      "140                           GET - Electrical      1.000000\n",
      "141                                   GET - IT      1.000000\n",
      "203                               Mine Captain      1.000000\n",
      "143                        GET - Manufacturing      1.000000\n",
      "144                           GET - Mechanical      1.000000\n",
      "1                              Advisor - Civil      1.000000\n",
      "208                               PG Geologist      1.000000\n",
      "209           President - Global Zinc Business      1.000000\n",
      "210                          Process Associate      1.000000\n",
      "95                               B.Com Trainee      1.000000\n",
      "218                        Sr. Manager - Civil      1.000000\n",
      "217           Sr. Manager - Asset Optimization      1.000000\n",
      "196                       Manager - Mechanical      1.000000\n",
      "..                                         ...           ...\n",
      "200                           Manager - Safety      0.500000\n",
      "237                        Vice President - HR      0.500000\n",
      "132                        Executive - Finance      0.400000\n",
      "109                           Engineer - Civil      0.333333\n",
      "119                          Engineer - Mining      0.312500\n",
      "22                          Associate - Mining      0.250000\n",
      "10                  Associate - Administration      0.250000\n",
      "185               Management Trainee - Finance      0.250000\n",
      "97                               B.Sc. Trainee      0.111111\n",
      "117                      Engineer - Metallurgy      0.090909\n",
      "83                        Associate Manager-HR      0.000000\n",
      "162                         Head - Exploration      0.000000\n",
      "159                                  Geomatist      0.000000\n",
      "13            Associate - Engineering Services      0.000000\n",
      "120                Engineer - Mining Machinery      0.000000\n",
      "118              Engineer - Mineral Processing      0.000000\n",
      "235                       Vice President - CSR      0.000000\n",
      "16                         Associate - Geotech      0.000000\n",
      "18                             Associate - HSE      0.000000\n",
      "108                        Engineer - Chemical      0.000000\n",
      "81   Associate Manager - South Marketing(Zinc)      0.000000\n",
      "26                          Associate - Survey      0.000000\n",
      "41        Associate GM - Legal & Dy Head Legal      0.000000\n",
      "44                       Associate GM - Mining      0.000000\n",
      "104           Chief Security Officer & Manager      0.000000\n",
      "101              Chief Commercial Officer & VP      0.000000\n",
      "99          COO - Smelters & Sr.Vice President      0.000000\n",
      "166                          Head - Operations      0.000000\n",
      "76              Associate Manager - Refractory      0.000000\n",
      "92                     Associate- Ore Dressing      0.000000\n",
      "\n",
      "[242 rows x 2 columns]\n"
     ]
    }
   ],
   "source": [
    "#Designation - latest vs Exited (Y/N) \n",
    "print(train[['Designation - latest', 'Exited (Y/N)']].groupby(['Designation - latest'], as_index=False).mean().sort_values(by='Exited (Y/N)', ascending=False))"
   ]
  },
  {
   "cell_type": "code",
   "execution_count": 39,
   "metadata": {},
   "outputs": [
    {
     "name": "stdout",
     "output_type": "stream",
     "text": [
      "  Grade - latest  Exited (Y/N)\n",
      "9              P      1.000000\n",
      "7             M8      0.984615\n",
      "1             M2      0.960000\n",
      "4             M5      0.941176\n",
      "3             M4      0.936709\n",
      "2             M3      0.928571\n",
      "5             M6      0.817143\n",
      "0             M1      0.705882\n",
      "8             M9      0.685259\n",
      "6             M7      0.601490\n"
     ]
    }
   ],
   "source": [
    "#Grade - latest vs Exited (Y/N) \n",
    "print(train[['Grade - latest', 'Exited (Y/N)']].groupby(['Grade - latest'], as_index=False).mean().sort_values(by='Exited (Y/N)', ascending=False))"
   ]
  },
  {
   "cell_type": "code",
   "execution_count": 40,
   "metadata": {},
   "outputs": [
    {
     "data": {
      "text/plain": [
       "<matplotlib.axes._subplots.AxesSubplot at 0x8d05046550>"
      ]
     },
     "execution_count": 40,
     "metadata": {},
     "output_type": "execute_result"
    },
    {
     "data": {
      "image/png": "[encoded data removed]",
      "text/plain": [
       "<matplotlib.figure.Figure at 0x8d04ff6668>"
      ]
     },
     "metadata": {},
     "output_type": "display_data"
    }
   ],
   "source": [
    "#prediction labels\n",
    "train.groupby('Exited (Y/N)').size().plot(kind='bar', color='yellow')"
   ]
  },
  {
   "cell_type": "code",
   "execution_count": 41,
   "metadata": {},
   "outputs": [
    {
     "data": {
      "text/plain": [
       "<matplotlib.axes._subplots.AxesSubplot at 0x8d04ff6b70>"
      ]
     },
     "execution_count": 41,
     "metadata": {},
     "output_type": "execute_result"
    },
    {
     "data": {
      "image/png": "[encoded data removed]",
      "text/plain": [
       "<matplotlib.figure.Figure at 0x8d04facd30>"
      ]
     },
     "metadata": {},
     "output_type": "display_data"
    }
   ],
   "source": [
    "sb.countplot(x=\"Hipo Status\", hue=\"Exited (Y/N)\", data=train, palette=\"bright\")"
   ]
  },
  {
   "cell_type": "code",
   "execution_count": 42,
   "metadata": {},
   "outputs": [
    {
     "data": {
      "text/plain": [
       "<matplotlib.axes._subplots.AxesSubplot at 0x8d050c1470>"
      ]
     },
     "execution_count": 42,
     "metadata": {},
     "output_type": "execute_result"
    },
    {
     "data": {
      "image/png": "[encoded data removed]",
      "text/plain": [
       "<matplotlib.figure.Figure at 0x8d04fd4b70>"
      ]
     },
     "metadata": {},
     "output_type": "display_data"
    }
   ],
   "source": [
    "sb.countplot(x=\"V Connect\", hue=\"Exited (Y/N)\", data=train, palette=\"bright\")"
   ]
  },
  {
   "cell_type": "code",
   "execution_count": 43,
   "metadata": {},
   "outputs": [
    {
     "data": {
      "text/plain": [
       "<matplotlib.axes._subplots.AxesSubplot at 0x8d050f14a8>"
      ]
     },
     "execution_count": 43,
     "metadata": {},
     "output_type": "execute_result"
    },
    {
     "data": {
      "image/png": "[encoded data removed]",
      "text/plain": [
       "<matplotlib.figure.Figure at 0x8d05132588>"
      ]
     },
     "metadata": {},
     "output_type": "display_data"
    }
   ],
   "source": [
    "sb.countplot(x=\"Leaders connect member (Y/N)\", hue=\"Exited (Y/N)\", data=train, palette=\"bright\")"
   ]
  },
  {
   "cell_type": "code",
   "execution_count": 44,
   "metadata": {},
   "outputs": [
    {
     "data": {
      "text/plain": [
       "<matplotlib.axes._subplots.AxesSubplot at 0x8d05161198>"
      ]
     },
     "execution_count": 44,
     "metadata": {},
     "output_type": "execute_result"
    },
    {
     "data": {
      "image/png": "[encoded data removed]",
      "text/plain": [
       "<matplotlib.figure.Figure at 0x8d05ae5da0>"
      ]
     },
     "metadata": {},
     "output_type": "display_data"
    }
   ],
   "source": [
    "sb.countplot(x=\"Benchmark company visit (Y/N)\", hue=\"Exited (Y/N)\", data=train, palette=\"bright\")"
   ]
  },
  {
   "cell_type": "code",
   "execution_count": 45,
   "metadata": {
    "scrolled": false
   },
   "outputs": [
    {
     "data": {
      "text/plain": [
       "<matplotlib.axes._subplots.AxesSubplot at 0x8d05afe0f0>"
      ]
     },
     "execution_count": 45,
     "metadata": {},
     "output_type": "execute_result"
    },
    {
     "data": {
      "image/png": "[encoded data removed]",
      "text/plain": [
       "<matplotlib.figure.Figure at 0x8d05b103c8>"
      ]
     },
     "metadata": {},
     "output_type": "display_data"
    }
   ],
   "source": [
    "sb.countplot(x=\"Star of business (Y/N)\", hue=\"Exited (Y/N)\", data=train, palette=\"bright\")"
   ]
  },
  {
   "cell_type": "code",
   "execution_count": 46,
   "metadata": {},
   "outputs": [
    {
     "data": {
      "text/plain": [
       "0        28\n",
       "1         2\n",
       "2        59\n",
       "3       118\n",
       "4        25\n",
       "5        54\n",
       "6        25\n",
       "7        54\n",
       "8         5\n",
       "9        18\n",
       "10       24\n",
       "11       48\n",
       "12       42\n",
       "13       12\n",
       "14       39\n",
       "15       26\n",
       "16       40\n",
       "17       33\n",
       "18      313\n",
       "19        7\n",
       "20       46\n",
       "21        7\n",
       "22       30\n",
       "23       24\n",
       "24       54\n",
       "25       38\n",
       "26      313\n",
       "27       40\n",
       "28       42\n",
       "29        4\n",
       "       ... \n",
       "1199     12\n",
       "1200     10\n",
       "1201     32\n",
       "1202     35\n",
       "1203     12\n",
       "1204     26\n",
       "1205     10\n",
       "1206     70\n",
       "1207    301\n",
       "1208     35\n",
       "1209     31\n",
       "1210     36\n",
       "1211     39\n",
       "1212     20\n",
       "1213    406\n",
       "1214     47\n",
       "1215     81\n",
       "1216     38\n",
       "1217     40\n",
       "1218     22\n",
       "1219     24\n",
       "1220     17\n",
       "1221     47\n",
       "1222     32\n",
       "1223     49\n",
       "1224     11\n",
       "1225     27\n",
       "1226      4\n",
       "1227     45\n",
       "1228    283\n",
       "Name: Job_duration, Length: 1229, dtype: int32"
      ]
     },
     "execution_count": 46,
     "metadata": {},
     "output_type": "execute_result"
    }
   ],
   "source": [
    "train['DOJ'] = pd.to_datetime(train['DOJ'])\n",
    "train['Date of exit (if any) (dd-mm-yyyy)'] = pd.to_datetime(train['Date of exit (if any) (dd-mm-yyyy)'])\n",
    "train['Job_duration'] = ((train['Date of exit (if any) (dd-mm-yyyy)']- train['DOJ'])/ np.timedelta64(1, 'M')).astype(int)\n",
    "train['Job_duration']"
   ]
  },
  {
   "cell_type": "code",
   "execution_count": 47,
   "metadata": {},
   "outputs": [
    {
     "data": {
      "text/plain": [
       "0       25\n",
       "1       23\n",
       "2       25\n",
       "3       32\n",
       "4       25\n",
       "5       27\n",
       "6       23\n",
       "7       26\n",
       "8       23\n",
       "9       25\n",
       "10      24\n",
       "11      26\n",
       "12      26\n",
       "13      23\n",
       "14      24\n",
       "15      27\n",
       "16      25\n",
       "17      38\n",
       "18     -41\n",
       "19      20\n",
       "20      29\n",
       "21      22\n",
       "22     -49\n",
       "23      24\n",
       "24      29\n",
       "25      25\n",
       "26     -49\n",
       "27      24\n",
       "28      34\n",
       "29      24\n",
       "        ..\n",
       "1199    23\n",
       "1200    23\n",
       "1201    24\n",
       "1202    29\n",
       "1203    22\n",
       "1204    26\n",
       "1205   -36\n",
       "1206    28\n",
       "1207   -51\n",
       "1208    24\n",
       "1209    24\n",
       "1210    24\n",
       "1211    25\n",
       "1212    24\n",
       "1213   -41\n",
       "1214    33\n",
       "1215    31\n",
       "1216    24\n",
       "1217    25\n",
       "1218    21\n",
       "1219    30\n",
       "1220    24\n",
       "1221    28\n",
       "1222    24\n",
       "1223    28\n",
       "1224   -33\n",
       "1225    23\n",
       "1226    22\n",
       "1227    25\n",
       "1228   -52\n",
       "Name: Age, Length: 1229, dtype: int32"
      ]
     },
     "execution_count": 47,
     "metadata": {},
     "output_type": "execute_result"
    }
   ],
   "source": [
    "train['DOB'] = pd.to_datetime(train['DOB'])\n",
    "train['Age'] = ((train['Date of exit (if any) (dd-mm-yyyy)']- train['DOB'])/ np.timedelta64(1, 'Y')).astype(int)\n",
    "train['Age']"
   ]
  },
  {
   "cell_type": "code",
   "execution_count": 48,
   "metadata": {},
   "outputs": [
    {
     "data": {
      "text/plain": [
       "<seaborn.axisgrid.FacetGrid at 0x8d0501ada0>"
      ]
     },
     "execution_count": 48,
     "metadata": {},
     "output_type": "execute_result"
    },
    {
     "data": {
      "image/png": "[encoded data removed]",
      "text/plain": [
       "<matplotlib.figure.Figure at 0x8d05ba0cf8>"
      ]
     },
     "metadata": {},
     "output_type": "display_data"
    }
   ],
   "source": [
    "g = sb.FacetGrid(train, col='Exited (Y/N)')\n",
    "g.map(plt.hist, 'Job_duration', bins=50)"
   ]
  },
  {
   "cell_type": "code",
   "execution_count": 49,
   "metadata": {},
   "outputs": [
    {
     "data": {
      "text/plain": [
       "<seaborn.axisgrid.FacetGrid at 0x8d05c47ba8>"
      ]
     },
     "execution_count": 49,
     "metadata": {},
     "output_type": "execute_result"
    },
    {
     "data": {
      "image/png": "[encoded data removed]",
      "text/plain": [
       "<matplotlib.figure.Figure at 0x8d05c4ee10>"
      ]
     },
     "metadata": {},
     "output_type": "display_data"
    }
   ],
   "source": [
    "g = sb.FacetGrid(train, col='Exited (Y/N)')\n",
    "g.map(plt.hist, 'Total years of experience (in months) at the time of joining', bins=20)"
   ]
  },
  {
   "cell_type": "code",
   "execution_count": 50,
   "metadata": {},
   "outputs": [
    {
     "data": {
      "text/plain": [
       "<seaborn.axisgrid.FacetGrid at 0x8d05c37a90>"
      ]
     },
     "execution_count": 50,
     "metadata": {},
     "output_type": "execute_result"
    },
    {
     "data": {
      "image/png": "[encoded data removed]",
      "text/plain": [
       "<matplotlib.figure.Figure at 0x8d05de4940>"
      ]
     },
     "metadata": {},
     "output_type": "display_data"
    }
   ],
   "source": [
    "g = sb.FacetGrid(train, col='Exited (Y/N)')\n",
    "g.map(plt.hist, 'Tenure at current grade (in months)', bins=20)"
   ]
  },
  {
   "cell_type": "code",
   "execution_count": 51,
   "metadata": {},
   "outputs": [],
   "source": [
    "train =train.drop(['DOJ', 'DOB','Institute','Employee ID','Date of exit (if any) (dd-mm-yyyy)','Tenure at current grade (in months)'], axis=1)\n"
   ]
  },
  {
   "cell_type": "code",
   "execution_count": 52,
   "metadata": {},
   "outputs": [],
   "source": [
    "test =test.drop(['DOJ', 'DOB','Institute','Employee ID','Tenure at current grade (in months)'], axis=1)\n"
   ]
  },
  {
   "cell_type": "code",
   "execution_count": 53,
   "metadata": {},
   "outputs": [
    {
     "data": {
      "text/plain": [
       "(1229, 20)"
      ]
     },
     "execution_count": 53,
     "metadata": {},
     "output_type": "execute_result"
    }
   ],
   "source": [
    "train.shape"
   ]
  },
  {
   "cell_type": "code",
   "execution_count": 54,
   "metadata": {},
   "outputs": [
    {
     "data": {
      "text/plain": [
       "(308, 17)"
      ]
     },
     "execution_count": 54,
     "metadata": {},
     "output_type": "execute_result"
    }
   ],
   "source": [
    "test.shape"
   ]
  },
  {
   "cell_type": "code",
   "execution_count": 55,
   "metadata": {},
   "outputs": [
    {
     "name": "stdout",
     "output_type": "stream",
     "text": [
      "<class 'pandas.core.frame.DataFrame'>\n",
      "RangeIndex: 1229 entries, 0 to 1228\n",
      "Data columns (total 20 columns):\n",
      "Sub-Function                                                         1229 non-null object\n",
      "Total years of experience (in months) at the time of joining         1229 non-null int64\n",
      "Nature of employment (Advisory/ Retainer/ Contractual /Permanent)    1229 non-null object\n",
      "Hipo Status                                                          1229 non-null int64\n",
      "V Connect                                                            1229 non-null int64\n",
      "Sub-Function - during hire                                           1229 non-null object\n",
      "Designation - during hire                                            1229 non-null object\n",
      "Function - latest                                                    1212 non-null object\n",
      "Leaders connect member (Y/N)                                         1229 non-null int64\n",
      "Function - during hire                                               1229 non-null object\n",
      "Grade - during hire                                                  1229 non-null object\n",
      "Number of Internal Movements (Transfers)                             1229 non-null int64\n",
      "Benchmark company visit (Y/N)                                        1229 non-null int64\n",
      "Star of business (Y/N)                                               1229 non-null int64\n",
      "Designation - latest                                                 1229 non-null object\n",
      "Grade - latest                                                       1229 non-null object\n",
      "Part of internal growth workshop (Y/N)                               1229 non-null int64\n",
      "Exited (Y/N)                                                         1229 non-null int64\n",
      "Job_duration                                                         1229 non-null int32\n",
      "Age                                                                  1229 non-null int32\n",
      "dtypes: int32(2), int64(9), object(9)\n",
      "memory usage: 182.5+ KB\n"
     ]
    }
   ],
   "source": [
    "train.info()"
   ]
  },
  {
   "cell_type": "code",
   "execution_count": 56,
   "metadata": {},
   "outputs": [
    {
     "data": {
      "text/plain": [
       "(1229, 15)"
      ]
     },
     "execution_count": 56,
     "metadata": {},
     "output_type": "execute_result"
    }
   ],
   "source": [
    "train =train.drop(['Sub-Function - during hire', 'Designation - during hire','Designation - latest','Sub-Function','Age'], axis=1)\n",
    "train.shape"
   ]
  },
  {
   "cell_type": "code",
   "execution_count": 57,
   "metadata": {},
   "outputs": [
    {
     "data": {
      "text/plain": [
       "(308, 13)"
      ]
     },
     "execution_count": 57,
     "metadata": {},
     "output_type": "execute_result"
    }
   ],
   "source": [
    "test =test.drop(['Sub-Function - during hire', 'Designation - during hire','Designation - latest','Sub-Function'], axis=1)\n",
    "test.shape"
   ]
  },
  {
   "cell_type": "code",
   "execution_count": 58,
   "metadata": {},
   "outputs": [
    {
     "name": "stdout",
     "output_type": "stream",
     "text": [
      "<class 'pandas.core.frame.DataFrame'>\n",
      "RangeIndex: 1229 entries, 0 to 1228\n",
      "Data columns (total 15 columns):\n",
      "Total years of experience (in months) at the time of joining         1229 non-null int64\n",
      "Nature of employment (Advisory/ Retainer/ Contractual /Permanent)    1229 non-null object\n",
      "Hipo Status                                                          1229 non-null int64\n",
      "V Connect                                                            1229 non-null int64\n",
      "Function - latest                                                    1212 non-null object\n",
      "Leaders connect member (Y/N)                                         1229 non-null int64\n",
      "Function - during hire                                               1229 non-null object\n",
      "Grade - during hire                                                  1229 non-null object\n",
      "Number of Internal Movements (Transfers)                             1229 non-null int64\n",
      "Benchmark company visit (Y/N)                                        1229 non-null int64\n",
      "Star of business (Y/N)                                               1229 non-null int64\n",
      "Grade - latest                                                       1229 non-null object\n",
      "Part of internal growth workshop (Y/N)                               1229 non-null int64\n",
      "Exited (Y/N)                                                         1229 non-null int64\n",
      "Job_duration                                                         1229 non-null int32\n",
      "dtypes: int32(1), int64(9), object(5)\n",
      "memory usage: 139.3+ KB\n"
     ]
    }
   ],
   "source": [
    "train.info()"
   ]
  },
  {
   "cell_type": "code",
   "execution_count": 59,
   "metadata": {},
   "outputs": [
    {
     "name": "stdout",
     "output_type": "stream",
     "text": [
      "<class 'pandas.core.frame.DataFrame'>\n",
      "RangeIndex: 308 entries, 0 to 307\n",
      "Data columns (total 13 columns):\n",
      "Total years of experience (in months) at the time of joining         308 non-null int64\n",
      "Nature of employment (Advisory/ Retainer/ Contractual /Permanent)    308 non-null object\n",
      "Hipo Status                                                          308 non-null int64\n",
      "V Connect                                                            308 non-null int64\n",
      "Function - latest                                                    305 non-null object\n",
      "Leaders connect member (Y/N)                                         308 non-null int64\n",
      "Function - during hire                                               308 non-null object\n",
      "Grade - during hire                                                  308 non-null object\n",
      "Number of Internal Movements (Transfers)                             308 non-null int64\n",
      "Benchmark company visit (Y/N)                                        308 non-null int64\n",
      "Star of business (Y/N)                                               308 non-null int64\n",
      "Grade - latest                                                       308 non-null object\n",
      "Part of internal growth workshop (Y/N)                               308 non-null int64\n",
      "dtypes: int64(8), object(5)\n",
      "memory usage: 31.4+ KB\n"
     ]
    }
   ],
   "source": [
    "test.info()"
   ]
  },
  {
   "cell_type": "code",
   "execution_count": 60,
   "metadata": {},
   "outputs": [
    {
     "data": {
      "text/html": [
       "<div>\n",
       "<style scoped>\n",
       "    .dataframe tbody tr th:only-of-type {\n",
       "        vertical-align: middle;\n",
       "    }\n",
       "\n",
       "    .dataframe tbody tr th {\n",
       "        vertical-align: top;\n",
       "    }\n",
       "\n",
       "    .dataframe thead th {\n",
       "        text-align: right;\n",
       "    }\n",
       "</style>\n",
       "<table border=\"1\" class=\"dataframe\">\n",
       "  <thead>\n",
       "    <tr style=\"text-align: right;\">\n",
       "      <th></th>\n",
       "      <th>Total years of experience (in months) at the time of joining</th>\n",
       "      <th>Nature of employment (Advisory/ Retainer/ Contractual /Permanent)</th>\n",
       "      <th>Hipo Status</th>\n",
       "      <th>V Connect</th>\n",
       "      <th>Function - latest</th>\n",
       "      <th>Leaders connect member (Y/N)</th>\n",
       "      <th>Function - during hire</th>\n",
       "      <th>Grade - during hire</th>\n",
       "      <th>Number of Internal Movements (Transfers)</th>\n",
       "      <th>Benchmark company visit (Y/N)</th>\n",
       "      <th>Star of business (Y/N)</th>\n",
       "      <th>Grade - latest</th>\n",
       "      <th>Part of internal growth workshop (Y/N)</th>\n",
       "      <th>Exited (Y/N)</th>\n",
       "      <th>Job_duration</th>\n",
       "    </tr>\n",
       "  </thead>\n",
       "  <tbody>\n",
       "    <tr>\n",
       "      <th>0</th>\n",
       "      <td>0</td>\n",
       "      <td>Permanent</td>\n",
       "      <td>0</td>\n",
       "      <td>0</td>\n",
       "      <td>Operations</td>\n",
       "      <td>0</td>\n",
       "      <td>Ore Dressing</td>\n",
       "      <td>M7</td>\n",
       "      <td>1</td>\n",
       "      <td>1</td>\n",
       "      <td>0</td>\n",
       "      <td>M7</td>\n",
       "      <td>0</td>\n",
       "      <td>1</td>\n",
       "      <td>28</td>\n",
       "    </tr>\n",
       "    <tr>\n",
       "      <th>1</th>\n",
       "      <td>0</td>\n",
       "      <td>Permanent</td>\n",
       "      <td>0</td>\n",
       "      <td>0</td>\n",
       "      <td>Maintenance</td>\n",
       "      <td>0</td>\n",
       "      <td>Maintenance</td>\n",
       "      <td>M7</td>\n",
       "      <td>0</td>\n",
       "      <td>0</td>\n",
       "      <td>0</td>\n",
       "      <td>M7</td>\n",
       "      <td>0</td>\n",
       "      <td>1</td>\n",
       "      <td>2</td>\n",
       "    </tr>\n",
       "    <tr>\n",
       "      <th>2</th>\n",
       "      <td>0</td>\n",
       "      <td>Permanent</td>\n",
       "      <td>0</td>\n",
       "      <td>0</td>\n",
       "      <td>Operations</td>\n",
       "      <td>0</td>\n",
       "      <td>Mining</td>\n",
       "      <td>M7</td>\n",
       "      <td>0</td>\n",
       "      <td>0</td>\n",
       "      <td>0</td>\n",
       "      <td>M7</td>\n",
       "      <td>0</td>\n",
       "      <td>1</td>\n",
       "      <td>59</td>\n",
       "    </tr>\n",
       "    <tr>\n",
       "      <th>3</th>\n",
       "      <td>0</td>\n",
       "      <td>Permanent</td>\n",
       "      <td>0</td>\n",
       "      <td>0</td>\n",
       "      <td>Operations</td>\n",
       "      <td>0</td>\n",
       "      <td>Operations</td>\n",
       "      <td>M4</td>\n",
       "      <td>0</td>\n",
       "      <td>1</td>\n",
       "      <td>0</td>\n",
       "      <td>M4</td>\n",
       "      <td>0</td>\n",
       "      <td>1</td>\n",
       "      <td>118</td>\n",
       "    </tr>\n",
       "    <tr>\n",
       "      <th>4</th>\n",
       "      <td>0</td>\n",
       "      <td>Permanent</td>\n",
       "      <td>0</td>\n",
       "      <td>0</td>\n",
       "      <td>Finance</td>\n",
       "      <td>0</td>\n",
       "      <td>Finance</td>\n",
       "      <td>M6</td>\n",
       "      <td>1</td>\n",
       "      <td>0</td>\n",
       "      <td>0</td>\n",
       "      <td>M6</td>\n",
       "      <td>0</td>\n",
       "      <td>0</td>\n",
       "      <td>25</td>\n",
       "    </tr>\n",
       "    <tr>\n",
       "      <th>5</th>\n",
       "      <td>0</td>\n",
       "      <td>Permanent</td>\n",
       "      <td>0</td>\n",
       "      <td>0</td>\n",
       "      <td>Operations</td>\n",
       "      <td>0</td>\n",
       "      <td>Operations</td>\n",
       "      <td>M7</td>\n",
       "      <td>0</td>\n",
       "      <td>0</td>\n",
       "      <td>0</td>\n",
       "      <td>M7</td>\n",
       "      <td>0</td>\n",
       "      <td>1</td>\n",
       "      <td>54</td>\n",
       "    </tr>\n",
       "    <tr>\n",
       "      <th>6</th>\n",
       "      <td>0</td>\n",
       "      <td>Permanent</td>\n",
       "      <td>0</td>\n",
       "      <td>0</td>\n",
       "      <td>Operations</td>\n",
       "      <td>0</td>\n",
       "      <td>Mining</td>\n",
       "      <td>M7</td>\n",
       "      <td>0</td>\n",
       "      <td>0</td>\n",
       "      <td>0</td>\n",
       "      <td>M7</td>\n",
       "      <td>0</td>\n",
       "      <td>1</td>\n",
       "      <td>25</td>\n",
       "    </tr>\n",
       "    <tr>\n",
       "      <th>7</th>\n",
       "      <td>0</td>\n",
       "      <td>Permanent</td>\n",
       "      <td>0</td>\n",
       "      <td>0</td>\n",
       "      <td>Operations</td>\n",
       "      <td>0</td>\n",
       "      <td>Operations</td>\n",
       "      <td>M9</td>\n",
       "      <td>0</td>\n",
       "      <td>0</td>\n",
       "      <td>0</td>\n",
       "      <td>M9</td>\n",
       "      <td>0</td>\n",
       "      <td>1</td>\n",
       "      <td>54</td>\n",
       "    </tr>\n",
       "    <tr>\n",
       "      <th>8</th>\n",
       "      <td>0</td>\n",
       "      <td>Permanent</td>\n",
       "      <td>0</td>\n",
       "      <td>0</td>\n",
       "      <td>Maintenance</td>\n",
       "      <td>0</td>\n",
       "      <td>Maintenance</td>\n",
       "      <td>M7</td>\n",
       "      <td>0</td>\n",
       "      <td>0</td>\n",
       "      <td>0</td>\n",
       "      <td>M7</td>\n",
       "      <td>0</td>\n",
       "      <td>1</td>\n",
       "      <td>5</td>\n",
       "    </tr>\n",
       "    <tr>\n",
       "      <th>9</th>\n",
       "      <td>0</td>\n",
       "      <td>Permanent</td>\n",
       "      <td>0</td>\n",
       "      <td>0</td>\n",
       "      <td>Operations</td>\n",
       "      <td>0</td>\n",
       "      <td>Asset Optimization</td>\n",
       "      <td>M7</td>\n",
       "      <td>2</td>\n",
       "      <td>0</td>\n",
       "      <td>0</td>\n",
       "      <td>M7</td>\n",
       "      <td>0</td>\n",
       "      <td>1</td>\n",
       "      <td>18</td>\n",
       "    </tr>\n",
       "  </tbody>\n",
       "</table>\n",
       "</div>"
      ],
      "text/plain": [
       "   Total years of experience (in months) at the time of joining  \\\n",
       "0                                                  0              \n",
       "1                                                  0              \n",
       "2                                                  0              \n",
       "3                                                  0              \n",
       "4                                                  0              \n",
       "5                                                  0              \n",
       "6                                                  0              \n",
       "7                                                  0              \n",
       "8                                                  0              \n",
       "9                                                  0              \n",
       "\n",
       "  Nature of employment (Advisory/ Retainer/ Contractual /Permanent)  \\\n",
       "0                                          Permanent                  \n",
       "1                                          Permanent                  \n",
       "2                                          Permanent                  \n",
       "3                                          Permanent                  \n",
       "4                                          Permanent                  \n",
       "5                                          Permanent                  \n",
       "6                                          Permanent                  \n",
       "7                                          Permanent                  \n",
       "8                                          Permanent                  \n",
       "9                                          Permanent                  \n",
       "\n",
       "   Hipo Status  V Connect Function - latest  Leaders connect member (Y/N)  \\\n",
       "0            0          0        Operations                             0   \n",
       "1            0          0       Maintenance                             0   \n",
       "2            0          0        Operations                             0   \n",
       "3            0          0        Operations                             0   \n",
       "4            0          0           Finance                             0   \n",
       "5            0          0        Operations                             0   \n",
       "6            0          0        Operations                             0   \n",
       "7            0          0        Operations                             0   \n",
       "8            0          0       Maintenance                             0   \n",
       "9            0          0        Operations                             0   \n",
       "\n",
       "  Function - during hire Grade - during hire  \\\n",
       "0           Ore Dressing                  M7   \n",
       "1            Maintenance                  M7   \n",
       "2                 Mining                  M7   \n",
       "3             Operations                  M4   \n",
       "4                Finance                  M6   \n",
       "5             Operations                  M7   \n",
       "6                 Mining                  M7   \n",
       "7             Operations                  M9   \n",
       "8            Maintenance                  M7   \n",
       "9     Asset Optimization                  M7   \n",
       "\n",
       "   Number of Internal Movements (Transfers)  Benchmark company visit (Y/N)  \\\n",
       "0                                         1                              1   \n",
       "1                                         0                              0   \n",
       "2                                         0                              0   \n",
       "3                                         0                              1   \n",
       "4                                         1                              0   \n",
       "5                                         0                              0   \n",
       "6                                         0                              0   \n",
       "7                                         0                              0   \n",
       "8                                         0                              0   \n",
       "9                                         2                              0   \n",
       "\n",
       "   Star of business (Y/N) Grade - latest  \\\n",
       "0                       0             M7   \n",
       "1                       0             M7   \n",
       "2                       0             M7   \n",
       "3                       0             M4   \n",
       "4                       0             M6   \n",
       "5                       0             M7   \n",
       "6                       0             M7   \n",
       "7                       0             M9   \n",
       "8                       0             M7   \n",
       "9                       0             M7   \n",
       "\n",
       "   Part of internal growth workshop (Y/N)  Exited (Y/N)  Job_duration  \n",
       "0                                       0             1            28  \n",
       "1                                       0             1             2  \n",
       "2                                       0             1            59  \n",
       "3                                       0             1           118  \n",
       "4                                       0             0            25  \n",
       "5                                       0             1            54  \n",
       "6                                       0             1            25  \n",
       "7                                       0             1            54  \n",
       "8                                       0             1             5  \n",
       "9                                       0             1            18  "
      ]
     },
     "execution_count": 60,
     "metadata": {},
     "output_type": "execute_result"
    }
   ],
   "source": [
    "train.head(10)"
   ]
  },
  {
   "cell_type": "code",
   "execution_count": 61,
   "metadata": {},
   "outputs": [],
   "source": [
    "X=train.drop('Exited (Y/N)',axis=1)\n",
    "y=train['Exited (Y/N)']"
   ]
  },
  {
   "cell_type": "code",
   "execution_count": 62,
   "metadata": {},
   "outputs": [
    {
     "data": {
      "text/plain": [
       "(1229, 14)"
      ]
     },
     "execution_count": 62,
     "metadata": {},
     "output_type": "execute_result"
    }
   ],
   "source": [
    "X.shape"
   ]
  },
  {
   "cell_type": "code",
   "execution_count": 63,
   "metadata": {},
   "outputs": [],
   "source": [
    "X=pd.get_dummies(X)"
   ]
  },
  {
   "cell_type": "code",
   "execution_count": 64,
   "metadata": {},
   "outputs": [],
   "source": [
    "test=pd.get_dummies(test)"
   ]
  },
  {
   "cell_type": "code",
   "execution_count": 65,
   "metadata": {},
   "outputs": [
    {
     "data": {
      "text/html": [
       "<div>\n",
       "<style scoped>\n",
       "    .dataframe tbody tr th:only-of-type {\n",
       "        vertical-align: middle;\n",
       "    }\n",
       "\n",
       "    .dataframe tbody tr th {\n",
       "        vertical-align: top;\n",
       "    }\n",
       "\n",
       "    .dataframe thead th {\n",
       "        text-align: right;\n",
       "    }\n",
       "</style>\n",
       "<table border=\"1\" class=\"dataframe\">\n",
       "  <thead>\n",
       "    <tr style=\"text-align: right;\">\n",
       "      <th></th>\n",
       "      <th>Total years of experience (in months) at the time of joining</th>\n",
       "      <th>Hipo Status</th>\n",
       "      <th>V Connect</th>\n",
       "      <th>Leaders connect member (Y/N)</th>\n",
       "      <th>Number of Internal Movements (Transfers)</th>\n",
       "      <th>Benchmark company visit (Y/N)</th>\n",
       "      <th>Star of business (Y/N)</th>\n",
       "      <th>Part of internal growth workshop (Y/N)</th>\n",
       "      <th>Job_duration</th>\n",
       "      <th>Nature of employment (Advisory/ Retainer/ Contractual /Permanent)_Expat</th>\n",
       "      <th>...</th>\n",
       "      <th>Grade - latest_M1</th>\n",
       "      <th>Grade - latest_M2</th>\n",
       "      <th>Grade - latest_M3</th>\n",
       "      <th>Grade - latest_M4</th>\n",
       "      <th>Grade - latest_M5</th>\n",
       "      <th>Grade - latest_M6</th>\n",
       "      <th>Grade - latest_M7</th>\n",
       "      <th>Grade - latest_M8</th>\n",
       "      <th>Grade - latest_M9</th>\n",
       "      <th>Grade - latest_P</th>\n",
       "    </tr>\n",
       "  </thead>\n",
       "  <tbody>\n",
       "    <tr>\n",
       "      <th>0</th>\n",
       "      <td>0</td>\n",
       "      <td>0</td>\n",
       "      <td>0</td>\n",
       "      <td>0</td>\n",
       "      <td>1</td>\n",
       "      <td>1</td>\n",
       "      <td>0</td>\n",
       "      <td>0</td>\n",
       "      <td>28</td>\n",
       "      <td>0</td>\n",
       "      <td>...</td>\n",
       "      <td>0</td>\n",
       "      <td>0</td>\n",
       "      <td>0</td>\n",
       "      <td>0</td>\n",
       "      <td>0</td>\n",
       "      <td>0</td>\n",
       "      <td>1</td>\n",
       "      <td>0</td>\n",
       "      <td>0</td>\n",
       "      <td>0</td>\n",
       "    </tr>\n",
       "    <tr>\n",
       "      <th>1</th>\n",
       "      <td>0</td>\n",
       "      <td>0</td>\n",
       "      <td>0</td>\n",
       "      <td>0</td>\n",
       "      <td>0</td>\n",
       "      <td>0</td>\n",
       "      <td>0</td>\n",
       "      <td>0</td>\n",
       "      <td>2</td>\n",
       "      <td>0</td>\n",
       "      <td>...</td>\n",
       "      <td>0</td>\n",
       "      <td>0</td>\n",
       "      <td>0</td>\n",
       "      <td>0</td>\n",
       "      <td>0</td>\n",
       "      <td>0</td>\n",
       "      <td>1</td>\n",
       "      <td>0</td>\n",
       "      <td>0</td>\n",
       "      <td>0</td>\n",
       "    </tr>\n",
       "    <tr>\n",
       "      <th>2</th>\n",
       "      <td>0</td>\n",
       "      <td>0</td>\n",
       "      <td>0</td>\n",
       "      <td>0</td>\n",
       "      <td>0</td>\n",
       "      <td>0</td>\n",
       "      <td>0</td>\n",
       "      <td>0</td>\n",
       "      <td>59</td>\n",
       "      <td>0</td>\n",
       "      <td>...</td>\n",
       "      <td>0</td>\n",
       "      <td>0</td>\n",
       "      <td>0</td>\n",
       "      <td>0</td>\n",
       "      <td>0</td>\n",
       "      <td>0</td>\n",
       "      <td>1</td>\n",
       "      <td>0</td>\n",
       "      <td>0</td>\n",
       "      <td>0</td>\n",
       "    </tr>\n",
       "    <tr>\n",
       "      <th>3</th>\n",
       "      <td>0</td>\n",
       "      <td>0</td>\n",
       "      <td>0</td>\n",
       "      <td>0</td>\n",
       "      <td>0</td>\n",
       "      <td>1</td>\n",
       "      <td>0</td>\n",
       "      <td>0</td>\n",
       "      <td>118</td>\n",
       "      <td>0</td>\n",
       "      <td>...</td>\n",
       "      <td>0</td>\n",
       "      <td>0</td>\n",
       "      <td>0</td>\n",
       "      <td>1</td>\n",
       "      <td>0</td>\n",
       "      <td>0</td>\n",
       "      <td>0</td>\n",
       "      <td>0</td>\n",
       "      <td>0</td>\n",
       "      <td>0</td>\n",
       "    </tr>\n",
       "    <tr>\n",
       "      <th>4</th>\n",
       "      <td>0</td>\n",
       "      <td>0</td>\n",
       "      <td>0</td>\n",
       "      <td>0</td>\n",
       "      <td>1</td>\n",
       "      <td>0</td>\n",
       "      <td>0</td>\n",
       "      <td>0</td>\n",
       "      <td>25</td>\n",
       "      <td>0</td>\n",
       "      <td>...</td>\n",
       "      <td>0</td>\n",
       "      <td>0</td>\n",
       "      <td>0</td>\n",
       "      <td>0</td>\n",
       "      <td>0</td>\n",
       "      <td>1</td>\n",
       "      <td>0</td>\n",
       "      <td>0</td>\n",
       "      <td>0</td>\n",
       "      <td>0</td>\n",
       "    </tr>\n",
       "    <tr>\n",
       "      <th>5</th>\n",
       "      <td>0</td>\n",
       "      <td>0</td>\n",
       "      <td>0</td>\n",
       "      <td>0</td>\n",
       "      <td>0</td>\n",
       "      <td>0</td>\n",
       "      <td>0</td>\n",
       "      <td>0</td>\n",
       "      <td>54</td>\n",
       "      <td>0</td>\n",
       "      <td>...</td>\n",
       "      <td>0</td>\n",
       "      <td>0</td>\n",
       "      <td>0</td>\n",
       "      <td>0</td>\n",
       "      <td>0</td>\n",
       "      <td>0</td>\n",
       "      <td>1</td>\n",
       "      <td>0</td>\n",
       "      <td>0</td>\n",
       "      <td>0</td>\n",
       "    </tr>\n",
       "    <tr>\n",
       "      <th>6</th>\n",
       "      <td>0</td>\n",
       "      <td>0</td>\n",
       "      <td>0</td>\n",
       "      <td>0</td>\n",
       "      <td>0</td>\n",
       "      <td>0</td>\n",
       "      <td>0</td>\n",
       "      <td>0</td>\n",
       "      <td>25</td>\n",
       "      <td>0</td>\n",
       "      <td>...</td>\n",
       "      <td>0</td>\n",
       "      <td>0</td>\n",
       "      <td>0</td>\n",
       "      <td>0</td>\n",
       "      <td>0</td>\n",
       "      <td>0</td>\n",
       "      <td>1</td>\n",
       "      <td>0</td>\n",
       "      <td>0</td>\n",
       "      <td>0</td>\n",
       "    </tr>\n",
       "    <tr>\n",
       "      <th>7</th>\n",
       "      <td>0</td>\n",
       "      <td>0</td>\n",
       "      <td>0</td>\n",
       "      <td>0</td>\n",
       "      <td>0</td>\n",
       "      <td>0</td>\n",
       "      <td>0</td>\n",
       "      <td>0</td>\n",
       "      <td>54</td>\n",
       "      <td>0</td>\n",
       "      <td>...</td>\n",
       "      <td>0</td>\n",
       "      <td>0</td>\n",
       "      <td>0</td>\n",
       "      <td>0</td>\n",
       "      <td>0</td>\n",
       "      <td>0</td>\n",
       "      <td>0</td>\n",
       "      <td>0</td>\n",
       "      <td>1</td>\n",
       "      <td>0</td>\n",
       "    </tr>\n",
       "    <tr>\n",
       "      <th>8</th>\n",
       "      <td>0</td>\n",
       "      <td>0</td>\n",
       "      <td>0</td>\n",
       "      <td>0</td>\n",
       "      <td>0</td>\n",
       "      <td>0</td>\n",
       "      <td>0</td>\n",
       "      <td>0</td>\n",
       "      <td>5</td>\n",
       "      <td>0</td>\n",
       "      <td>...</td>\n",
       "      <td>0</td>\n",
       "      <td>0</td>\n",
       "      <td>0</td>\n",
       "      <td>0</td>\n",
       "      <td>0</td>\n",
       "      <td>0</td>\n",
       "      <td>1</td>\n",
       "      <td>0</td>\n",
       "      <td>0</td>\n",
       "      <td>0</td>\n",
       "    </tr>\n",
       "    <tr>\n",
       "      <th>9</th>\n",
       "      <td>0</td>\n",
       "      <td>0</td>\n",
       "      <td>0</td>\n",
       "      <td>0</td>\n",
       "      <td>2</td>\n",
       "      <td>0</td>\n",
       "      <td>0</td>\n",
       "      <td>0</td>\n",
       "      <td>18</td>\n",
       "      <td>0</td>\n",
       "      <td>...</td>\n",
       "      <td>0</td>\n",
       "      <td>0</td>\n",
       "      <td>0</td>\n",
       "      <td>0</td>\n",
       "      <td>0</td>\n",
       "      <td>0</td>\n",
       "      <td>1</td>\n",
       "      <td>0</td>\n",
       "      <td>0</td>\n",
       "      <td>0</td>\n",
       "    </tr>\n",
       "  </tbody>\n",
       "</table>\n",
       "<p>10 rows × 100 columns</p>\n",
       "</div>"
      ],
      "text/plain": [
       "   Total years of experience (in months) at the time of joining  Hipo Status  \\\n",
       "0                                                  0                       0   \n",
       "1                                                  0                       0   \n",
       "2                                                  0                       0   \n",
       "3                                                  0                       0   \n",
       "4                                                  0                       0   \n",
       "5                                                  0                       0   \n",
       "6                                                  0                       0   \n",
       "7                                                  0                       0   \n",
       "8                                                  0                       0   \n",
       "9                                                  0                       0   \n",
       "\n",
       "   V Connect  Leaders connect member (Y/N)  \\\n",
       "0          0                             0   \n",
       "1          0                             0   \n",
       "2          0                             0   \n",
       "3          0                             0   \n",
       "4          0                             0   \n",
       "5          0                             0   \n",
       "6          0                             0   \n",
       "7          0                             0   \n",
       "8          0                             0   \n",
       "9          0                             0   \n",
       "\n",
       "   Number of Internal Movements (Transfers)  Benchmark company visit (Y/N)  \\\n",
       "0                                         1                              1   \n",
       "1                                         0                              0   \n",
       "2                                         0                              0   \n",
       "3                                         0                              1   \n",
       "4                                         1                              0   \n",
       "5                                         0                              0   \n",
       "6                                         0                              0   \n",
       "7                                         0                              0   \n",
       "8                                         0                              0   \n",
       "9                                         2                              0   \n",
       "\n",
       "   Star of business (Y/N)  Part of internal growth workshop (Y/N)  \\\n",
       "0                       0                                       0   \n",
       "1                       0                                       0   \n",
       "2                       0                                       0   \n",
       "3                       0                                       0   \n",
       "4                       0                                       0   \n",
       "5                       0                                       0   \n",
       "6                       0                                       0   \n",
       "7                       0                                       0   \n",
       "8                       0                                       0   \n",
       "9                       0                                       0   \n",
       "\n",
       "   Job_duration  \\\n",
       "0            28   \n",
       "1             2   \n",
       "2            59   \n",
       "3           118   \n",
       "4            25   \n",
       "5            54   \n",
       "6            25   \n",
       "7            54   \n",
       "8             5   \n",
       "9            18   \n",
       "\n",
       "   Nature of employment (Advisory/ Retainer/ Contractual /Permanent)_Expat  \\\n",
       "0                                                  0                         \n",
       "1                                                  0                         \n",
       "2                                                  0                         \n",
       "3                                                  0                         \n",
       "4                                                  0                         \n",
       "5                                                  0                         \n",
       "6                                                  0                         \n",
       "7                                                  0                         \n",
       "8                                                  0                         \n",
       "9                                                  0                         \n",
       "\n",
       "         ...         Grade - latest_M1  Grade - latest_M2  Grade - latest_M3  \\\n",
       "0        ...                         0                  0                  0   \n",
       "1        ...                         0                  0                  0   \n",
       "2        ...                         0                  0                  0   \n",
       "3        ...                         0                  0                  0   \n",
       "4        ...                         0                  0                  0   \n",
       "5        ...                         0                  0                  0   \n",
       "6        ...                         0                  0                  0   \n",
       "7        ...                         0                  0                  0   \n",
       "8        ...                         0                  0                  0   \n",
       "9        ...                         0                  0                  0   \n",
       "\n",
       "   Grade - latest_M4  Grade - latest_M5  Grade - latest_M6  Grade - latest_M7  \\\n",
       "0                  0                  0                  0                  1   \n",
       "1                  0                  0                  0                  1   \n",
       "2                  0                  0                  0                  1   \n",
       "3                  1                  0                  0                  0   \n",
       "4                  0                  0                  1                  0   \n",
       "5                  0                  0                  0                  1   \n",
       "6                  0                  0                  0                  1   \n",
       "7                  0                  0                  0                  0   \n",
       "8                  0                  0                  0                  1   \n",
       "9                  0                  0                  0                  1   \n",
       "\n",
       "   Grade - latest_M8  Grade - latest_M9  Grade - latest_P  \n",
       "0                  0                  0                 0  \n",
       "1                  0                  0                 0  \n",
       "2                  0                  0                 0  \n",
       "3                  0                  0                 0  \n",
       "4                  0                  0                 0  \n",
       "5                  0                  0                 0  \n",
       "6                  0                  0                 0  \n",
       "7                  0                  1                 0  \n",
       "8                  0                  0                 0  \n",
       "9                  0                  0                 0  \n",
       "\n",
       "[10 rows x 100 columns]"
      ]
     },
     "execution_count": 65,
     "metadata": {},
     "output_type": "execute_result"
    }
   ],
   "source": [
    "X.head(10)"
   ]
  },
  {
   "cell_type": "code",
   "execution_count": 66,
   "metadata": {},
   "outputs": [
    {
     "data": {
      "text/plain": [
       "Index(['Total years of experience (in months) at the time of joining',\n",
       "       'Hipo Status', 'V Connect', 'Leaders connect member (Y/N)',\n",
       "       'Number of Internal Movements (Transfers)',\n",
       "       'Benchmark company visit (Y/N)', 'Star of business (Y/N)',\n",
       "       'Part of internal growth workshop (Y/N)', 'Job_duration',\n",
       "       'Nature of employment (Advisory/ Retainer/ Contractual /Permanent)_Expat',\n",
       "       'Nature of employment (Advisory/ Retainer/ Contractual /Permanent)_Permanent',\n",
       "       'Nature of employment (Advisory/ Retainer/ Contractual /Permanent)_Retainer',\n",
       "       'Function - latest_Commercial', 'Function - latest_Finance',\n",
       "       'Function - latest_HR', 'Function - latest_HSE',\n",
       "       'Function - latest_IT_BE&AO_Mark_Exp',\n",
       "       'Function - latest_Lab. Services', 'Function - latest_Maintenance',\n",
       "       'Function - latest_Operations', 'Function - latest_Others',\n",
       "       'Function - latest_Security', 'Function - during hire_ Ventilation',\n",
       "       'Function - during hire_AOC', 'Function - during hire_Admin',\n",
       "       'Function - during hire_Administration',\n",
       "       'Function - during hire_Asset Optimization',\n",
       "       'Function - during hire_BE & AO',\n",
       "       'Function - during hire_Business Development',\n",
       "       'Function - during hire_Business Excellence',\n",
       "       'Function - during hire_CEO', 'Function - during hire_CMPC',\n",
       "       'Function - during hire_CSR', 'Function - during hire_Commercial',\n",
       "       'Function - during hire_Community Relations',\n",
       "       'Function - during hire_Corp. Affairs',\n",
       "       'Function - during hire_Corp. Comm.',\n",
       "       'Function - during hire_Engineering Services',\n",
       "       'Function - during hire_Environment',\n",
       "       'Function - during hire_Exploration', 'Function - during hire_Finance',\n",
       "       'Function - during hire_Geology', 'Function - during hire_Geophysicist',\n",
       "       'Function - during hire_Geotech', 'Function - during hire_HR',\n",
       "       'Function - during hire_HSE', 'Function - during hire_IT',\n",
       "       'Function - during hire_IT ',\n",
       "       'Function - during hire_Investor Relations',\n",
       "       'Function - during hire_Lab. Services', 'Function - during hire_Legal',\n",
       "       'Function - during hire_Location Head',\n",
       "       'Function - during hire_Maintenance',\n",
       "       'Function - during hire_Marketing', 'Function - during hire_Medical',\n",
       "       'Function - during hire_Mine Planning',\n",
       "       'Function - during hire_Mineral Processing',\n",
       "       'Function - during hire_Mining',\n",
       "       'Function - during hire_Mining Machinery',\n",
       "       'Function - during hire_Mining Project',\n",
       "       'Function - during hire_Mining Projects',\n",
       "       'Function - during hire_Operations',\n",
       "       'Function - during hire_Ore  Dressing',\n",
       "       'Function - during hire_Ore Dressing',\n",
       "       'Function - during hire_Paste Fill', 'Function - during hire_Planning',\n",
       "       'Function - during hire_Power', 'Function - during hire_Process',\n",
       "       'Function - during hire_Project', 'Function - during hire_Projects',\n",
       "       'Function - during hire_Refractory',\n",
       "       'Function - during hire_Rock Mechanics',\n",
       "       'Function - during hire_Safety', 'Function - during hire_Security',\n",
       "       'Function - during hire_Secy. Services',\n",
       "       'Function - during hire_Stores', 'Function - during hire_Survey',\n",
       "       'Function - during hire_Technical Services',\n",
       "       'Function - during hire_Unit Head',\n",
       "       'Function - during hire_Ventillation', 'Grade - during hire_M1',\n",
       "       'Grade - during hire_M2', 'Grade - during hire_M3',\n",
       "       'Grade - during hire_M4', 'Grade - during hire_M5',\n",
       "       'Grade - during hire_M6', 'Grade - during hire_M7',\n",
       "       'Grade - during hire_M8', 'Grade - during hire_M9',\n",
       "       'Grade - during hire_P', 'Grade - latest_M1', 'Grade - latest_M2',\n",
       "       'Grade - latest_M3', 'Grade - latest_M4', 'Grade - latest_M5',\n",
       "       'Grade - latest_M6', 'Grade - latest_M7', 'Grade - latest_M8',\n",
       "       'Grade - latest_M9', 'Grade - latest_P'],\n",
       "      dtype='object')"
      ]
     },
     "execution_count": 66,
     "metadata": {},
     "output_type": "execute_result"
    }
   ],
   "source": [
    "X.columns"
   ]
  },
  {
   "cell_type": "code",
   "execution_count": 67,
   "metadata": {},
   "outputs": [
    {
     "data": {
      "text/plain": [
       "Index(['Total years of experience (in months) at the time of joining',\n",
       "       'Hipo Status', 'V Connect', 'Leaders connect member (Y/N)',\n",
       "       'Number of Internal Movements (Transfers)',\n",
       "       'Benchmark company visit (Y/N)', 'Star of business (Y/N)',\n",
       "       'Part of internal growth workshop (Y/N)',\n",
       "       'Nature of employment (Advisory/ Retainer/ Contractual /Permanent)_Expat',\n",
       "       'Nature of employment (Advisory/ Retainer/ Contractual /Permanent)_Permanent',\n",
       "       'Nature of employment (Advisory/ Retainer/ Contractual /Permanent)_Retainer',\n",
       "       'Function - latest_Commercial', 'Function - latest_Finance',\n",
       "       'Function - latest_HR', 'Function - latest_HSE',\n",
       "       'Function - latest_IT_BE&AO_Mark_Exp',\n",
       "       'Function - latest_Lab. Services', 'Function - latest_Maintenance',\n",
       "       'Function - latest_Operations', 'Function - latest_Others',\n",
       "       'Function - latest_Security', 'Function - during hire_Administration',\n",
       "       'Function - during hire_Asset Optimization',\n",
       "       'Function - during hire_BE & AO',\n",
       "       'Function - during hire_Business Excellence',\n",
       "       'Function - during hire_CMPC', 'Function - during hire_CSR',\n",
       "       'Function - during hire_Coal Proc', 'Function - during hire_Commercial',\n",
       "       'Function - during hire_Corp. Comm.',\n",
       "       'Function - during hire_Corp. Relations',\n",
       "       'Function - during hire_Engineering Services',\n",
       "       'Function - during hire_Environment',\n",
       "       'Function - during hire_Exploration', 'Function - during hire_Finance',\n",
       "       'Function - during hire_Geology', 'Function - during hire_HR',\n",
       "       'Function - during hire_HSE', 'Function - during hire_IT',\n",
       "       'Function - during hire_IT ', 'Function - during hire_Lab. Services',\n",
       "       'Function - during hire_Legal ', 'Function - during hire_Maintenance',\n",
       "       'Function - during hire_Mine Planning',\n",
       "       'Function - during hire_Mineral Processing',\n",
       "       'Function - during hire_Mining',\n",
       "       'Function - during hire_Mining Project',\n",
       "       'Function - during hire_Operations',\n",
       "       'Function - during hire_Ore Dressing',\n",
       "       'Function - during hire_Paste Fill', 'Function - during hire_Process',\n",
       "       'Function - during hire_Projects', 'Function - during hire_R&D',\n",
       "       'Function - during hire_Safety',\n",
       "       'Function - during hire_Sales & dispatch',\n",
       "       'Function - during hire_Security', 'Function - during hire_Stores',\n",
       "       'Function - during hire_Survey', 'Function - during hire_Ventillation',\n",
       "       'Grade - during hire_M1', 'Grade - during hire_M2',\n",
       "       'Grade - during hire_M3', 'Grade - during hire_M4',\n",
       "       'Grade - during hire_M5', 'Grade - during hire_M6',\n",
       "       'Grade - during hire_M7', 'Grade - during hire_M8',\n",
       "       'Grade - during hire_M9', 'Grade - latest_M1', 'Grade - latest_M2',\n",
       "       'Grade - latest_M3', 'Grade - latest_M4', 'Grade - latest_M5',\n",
       "       'Grade - latest_M6', 'Grade - latest_M7', 'Grade - latest_M8',\n",
       "       'Grade - latest_M9'],\n",
       "      dtype='object')"
      ]
     },
     "execution_count": 67,
     "metadata": {},
     "output_type": "execute_result"
    }
   ],
   "source": [
    "test.columns"
   ]
  },
  {
   "cell_type": "code",
   "execution_count": 68,
   "metadata": {},
   "outputs": [],
   "source": [
    "from sklearn.model_selection import train_test_split\n",
    "X_train,X_test,y_train,y_test=train_test_split(X,y,test_size=0.20,random_state=400)"
   ]
  },
  {
   "cell_type": "code",
   "execution_count": 69,
   "metadata": {},
   "outputs": [
    {
     "data": {
      "text/plain": [
       "LogisticRegression(C=1.0, class_weight=None, dual=False, fit_intercept=True,\n",
       "          intercept_scaling=1, max_iter=100, multi_class='ovr', n_jobs=1,\n",
       "          penalty='l2', random_state=10, solver='liblinear', tol=0.0001,\n",
       "          verbose=0, warm_start=False)"
      ]
     },
     "execution_count": 69,
     "metadata": {},
     "output_type": "execute_result"
    }
   ],
   "source": [
    "#benchmark model(Logistic Regression)\n",
    "from sklearn.linear_model import LogisticRegression\n",
    "clf0 = LogisticRegression(random_state=10)\n",
    "clf0.fit(X_train, y_train)"
   ]
  },
  {
   "cell_type": "code",
   "execution_count": 70,
   "metadata": {},
   "outputs": [
    {
     "name": "stdout",
     "output_type": "stream",
     "text": [
      "accuracy: 0.7804878048780488\n",
      "Precision: 0.7703323620575567\n",
      "Recall: 0.7804878048780488\n",
      "f1_score: 0.7704808529884751\n"
     ]
    }
   ],
   "source": [
    "from sklearn.metrics import accuracy_score\n",
    "from sklearn.metrics import recall_score\n",
    "from sklearn.metrics import precision_score\n",
    "from sklearn.metrics import f1_score\n",
    "y_pred = clf0.predict(X_test)\n",
    "accuracy_regr=accuracy_score(y_test, y_pred)\n",
    "precision_regr=precision_score(y_test, y_pred,average='weighted')\n",
    "recall_regr=recall_score(y_test, y_pred,average='weighted')\n",
    "f1_regr=f1_score(y_test,y_pred,average='weighted')\n",
    "print(\"accuracy:\", accuracy_regr)\n",
    "print(\"Precision:\", precision_regr)\n",
    "print(\"Recall:\", recall_regr)\n",
    "print('f1_score:',f1_regr)"
   ]
  },
  {
   "cell_type": "code",
   "execution_count": 71,
   "metadata": {},
   "outputs": [
    {
     "data": {
      "text/plain": [
       "RandomForestClassifier(bootstrap=True, class_weight=None, criterion='gini',\n",
       "            max_depth=None, max_features='auto', max_leaf_nodes=None,\n",
       "            min_impurity_decrease=0.0, min_impurity_split=None,\n",
       "            min_samples_leaf=1, min_samples_split=2,\n",
       "            min_weight_fraction_leaf=0.0, n_estimators=10, n_jobs=1,\n",
       "            oob_score=False, random_state=10, verbose=0, warm_start=False)"
      ]
     },
     "execution_count": 71,
     "metadata": {},
     "output_type": "execute_result"
    }
   ],
   "source": [
    "#Random Forest\n",
    "from sklearn.ensemble import RandomForestClassifier\n",
    "rf1=RandomForestClassifier(random_state=10)\n",
    "rf1.fit(X_train,y_train)"
   ]
  },
  {
   "cell_type": "code",
   "execution_count": 72,
   "metadata": {},
   "outputs": [
    {
     "name": "stdout",
     "output_type": "stream",
     "text": [
      "accuracy: 0.8983739837398373\n",
      "Precision: 0.8980001868984208\n",
      "Recall: 0.8983739837398373\n",
      "f1_score: 0.8981699843829404\n"
     ]
    }
   ],
   "source": [
    "y_pred1 = rf1.predict(X_test)\n",
    "accuracy_rf1=accuracy_score(y_test, y_pred1)\n",
    "precision_rf1=precision_score(y_test, y_pred1,average='weighted')\n",
    "recall_rf1=recall_score(y_test, y_pred1,average='weighted')\n",
    "f1_rf1=f1_score(y_test,y_pred1,average='weighted')\n",
    "print(\"accuracy:\", accuracy_rf1)\n",
    "print(\"Precision:\", precision_rf1)\n",
    "print(\"Recall:\", recall_rf1)\n",
    "print('f1_score:',f1_rf1)"
   ]
  },
  {
   "cell_type": "code",
   "execution_count": 74,
   "metadata": {},
   "outputs": [],
   "source": [
    "from sklearn.model_selection import GridSearchCV\n",
    "param_grid={\n",
    "        'n_estimators':[100,150,200,250,300,350,400,450,500],\n",
    "        'max_features':['auto','sqrt','log2']\n",
    "        }\n",
    "mod=GridSearchCV(estimator=rf1,param_grid=param_grid,cv=10)\n",
    "mod_gridsearch=mod.fit(X_train,y_train)\n",
    "mod_acc=mod_gridsearch.best_params_"
   ]
  },
  {
   "cell_type": "code",
   "execution_count": 75,
   "metadata": {},
   "outputs": [
    {
     "data": {
      "text/plain": [
       "{'max_features': 'auto', 'n_estimators': 300}"
      ]
     },
     "execution_count": 75,
     "metadata": {},
     "output_type": "execute_result"
    }
   ],
   "source": [
    "mod_acc"
   ]
  },
  {
   "cell_type": "code",
   "execution_count": 76,
   "metadata": {},
   "outputs": [
    {
     "data": {
      "text/plain": [
       "RandomForestClassifier(bootstrap=True, class_weight=None, criterion='gini',\n",
       "            max_depth=None, max_features='auto', max_leaf_nodes=None,\n",
       "            min_impurity_decrease=0.0, min_impurity_split=None,\n",
       "            min_samples_leaf=1, min_samples_split=2,\n",
       "            min_weight_fraction_leaf=0.0, n_estimators=300, n_jobs=-1,\n",
       "            oob_score=False, random_state=400, verbose=0, warm_start=False)"
      ]
     },
     "execution_count": 76,
     "metadata": {},
     "output_type": "execute_result"
    }
   ],
   "source": [
    "rf2=RandomForestClassifier(n_estimators=300,max_features='auto',n_jobs=-1,random_state=400)\n",
    "rf2.fit(X_train,y_train)"
   ]
  },
  {
   "cell_type": "code",
   "execution_count": 77,
   "metadata": {},
   "outputs": [
    {
     "name": "stdout",
     "output_type": "stream",
     "text": [
      "accuracy: 0.8780487804878049\n",
      "Precision: 0.8760390023884627\n",
      "Recall: 0.8780487804878049\n",
      "f1_score: 0.8752780777973015\n"
     ]
    }
   ],
   "source": [
    "y_pred2 = rf2.predict(X_test)\n",
    "accuracy_rf2=accuracy_score(y_test, y_pred2)\n",
    "precision_rf2=precision_score(y_test, y_pred2,average='weighted')\n",
    "recall_rf2=recall_score(y_test, y_pred2,average='weighted')\n",
    "f1_rf2=f1_score(y_test,y_pred2,average='weighted')\n",
    "print(\"accuracy:\", accuracy_rf2)\n",
    "print(\"Precision:\", precision_rf2)\n",
    "print(\"Recall:\", recall_rf2)\n",
    "print('f1_score:',f1_rf2)"
   ]
  },
  {
   "cell_type": "code",
   "execution_count": 78,
   "metadata": {},
   "outputs": [
    {
     "data": {
      "text/plain": [
       "XGBClassifier(base_score=0.5, booster='gbtree', colsample_bylevel=1,\n",
       "       colsample_bytree=0.8, gamma=0, learning_rate=0.1, max_delta_step=0,\n",
       "       max_depth=5, min_child_weight=1, missing=None, n_estimators=1000,\n",
       "       n_jobs=1, nthread=4, objective='binary:logistic', random_state=0,\n",
       "       reg_alpha=0, reg_lambda=1, scale_pos_weight=1, seed=27, silent=True,\n",
       "       subsample=0.8)"
      ]
     },
     "execution_count": 78,
     "metadata": {},
     "output_type": "execute_result"
    }
   ],
   "source": [
    "#XG boost\n",
    "from xgboost import XGBClassifier\n",
    "xgb=XGBClassifier(learning_rate =0.1,\n",
    " n_estimators=1000,\n",
    " max_depth=5,\n",
    " min_child_weight=1,\n",
    " gamma=0,\n",
    " subsample=0.8,\n",
    " colsample_bytree=0.8,\n",
    " objective= 'binary:logistic',\n",
    " nthread=4,\n",
    " scale_pos_weight=1,\n",
    " seed=27)\n",
    "xgb.fit(X_train,y_train)"
   ]
  },
  {
   "cell_type": "code",
   "execution_count": 80,
   "metadata": {},
   "outputs": [
    {
     "name": "stdout",
     "output_type": "stream",
     "text": [
      "accuracy: 0.8983739837398373\n",
      "Precision: 0.897097781288454\n",
      "Recall: 0.8983739837398373\n",
      "f1_score: 0.8972959360435575\n"
     ]
    },
    {
     "name": "stderr",
     "output_type": "stream",
     "text": [
      "C:\\Users\\Kush\\Anaconda3\\lib\\site-packages\\sklearn\\preprocessing\\label.py:151: DeprecationWarning: The truth value of an empty array is ambiguous. Returning False, but in future this will result in an error. Use `array.size > 0` to check that an array is not empty.\n",
      "  if diff:\n"
     ]
    }
   ],
   "source": [
    "y_pred3 = xgb.predict(X_test)\n",
    "accuracy_xgb=accuracy_score(y_test, y_pred3)\n",
    "precision_xgb=precision_score(y_test, y_pred3,average='weighted')\n",
    "recall_xgb=recall_score(y_test, y_pred3,average='weighted')\n",
    "f1_xgb=f1_score(y_test,y_pred3,average='weighted')\n",
    "print(\"accuracy:\", accuracy_xgb)\n",
    "print(\"Precision:\", precision_xgb)\n",
    "print(\"Recall:\", recall_xgb)\n",
    "print('f1_score:',f1_xgb)"
   ]
  },
  {
   "cell_type": "code",
   "execution_count": 81,
   "metadata": {},
   "outputs": [
    {
     "name": "stderr",
     "output_type": "stream",
     "text": [
      "C:\\Users\\Kush\\Anaconda3\\lib\\site-packages\\sklearn\\cross_validation.py:41: DeprecationWarning: This module was deprecated in version 0.18 in favor of the model_selection module into which all the refactored classes and functions are moved. Also note that the interface of the new CV iterators are different from that of this module. This module will be removed in 0.20.\n",
      "  \"This module will be removed in 0.20.\", DeprecationWarning)\n",
      "C:\\Users\\Kush\\Anaconda3\\lib\\site-packages\\sklearn\\grid_search.py:42: DeprecationWarning: This module was deprecated in version 0.18 in favor of the model_selection module into which all the refactored classes and functions are moved. This module will be removed in 0.20.\n",
      "  DeprecationWarning)\n"
     ]
    }
   ],
   "source": [
    "from xgboost.sklearn import XGBClassifier\n",
    "from sklearn import cross_validation, metrics\n",
    "from sklearn.grid_search import GridSearchCV\n",
    "xgb1 = XGBClassifier(\n",
    " learning_rate =0.1,\n",
    " n_estimators=1000,\n",
    " max_depth=5,\n",
    " min_child_weight=1,\n",
    " gamma=0,\n",
    " subsample=0.8,\n",
    " colsample_bytree=0.8,\n",
    " objective= 'binary:logistic',\n",
    " nthread=4,\n",
    " scale_pos_weight=1,\n",
    " seed=27)"
   ]
  },
  {
   "cell_type": "code",
   "execution_count": 82,
   "metadata": {},
   "outputs": [
    {
     "data": {
      "text/plain": [
       "([mean: 0.95187, std: 0.01603, params: {'max_depth': 4, 'min_child_weight': 4},\n",
       "  mean: 0.94978, std: 0.01456, params: {'max_depth': 4, 'min_child_weight': 5},\n",
       "  mean: 0.94841, std: 0.01607, params: {'max_depth': 4, 'min_child_weight': 6},\n",
       "  mean: 0.95350, std: 0.01382, params: {'max_depth': 5, 'min_child_weight': 4},\n",
       "  mean: 0.95161, std: 0.01389, params: {'max_depth': 5, 'min_child_weight': 5},\n",
       "  mean: 0.95031, std: 0.01452, params: {'max_depth': 5, 'min_child_weight': 6},\n",
       "  mean: 0.95571, std: 0.01470, params: {'max_depth': 6, 'min_child_weight': 4},\n",
       "  mean: 0.95287, std: 0.01427, params: {'max_depth': 6, 'min_child_weight': 5},\n",
       "  mean: 0.95040, std: 0.01585, params: {'max_depth': 6, 'min_child_weight': 6}],\n",
       " {'max_depth': 6, 'min_child_weight': 4},\n",
       " 0.9557080442809914)"
      ]
     },
     "execution_count": 82,
     "metadata": {},
     "output_type": "execute_result"
    }
   ],
   "source": [
    "param_test2 = {\n",
    " 'max_depth':[4,5,6],\n",
    " 'min_child_weight':[4,5,6]\n",
    "}\n",
    "gsearch2 = GridSearchCV(estimator = XGBClassifier( learning_rate=0.1, n_estimators=140, max_depth=5,\n",
    " min_child_weight=2, gamma=0, subsample=0.8, colsample_bytree=0.8,\n",
    " objective= 'binary:logistic', nthread=4, scale_pos_weight=1,seed=27), \n",
    " param_grid = param_test2, scoring='roc_auc',n_jobs=4,iid=False, cv=5)\n",
    "gsearch2.fit(X_train,y_train)\n",
    "gsearch2.grid_scores_, gsearch2.best_params_, gsearch2.best_score_"
   ]
  },
  {
   "cell_type": "code",
   "execution_count": 83,
   "metadata": {},
   "outputs": [
    {
     "data": {
      "text/plain": [
       "GridSearchCV(cv=5, error_score='raise',\n",
       "       estimator=XGBClassifier(base_score=0.5, booster='gbtree', colsample_bylevel=1,\n",
       "       colsample_bytree=0.8, gamma=0, learning_rate=0.1, max_delta_step=0,\n",
       "       max_depth=4, min_child_weight=2, missing=None, n_estimators=140,\n",
       "       n_jobs=1, nthread=4, objective='binary:logistic', random_state=0,\n",
       "       reg_alpha=0, reg_lambda=1, scale_pos_weight=1, seed=27, silent=True,\n",
       "       subsample=0.8),\n",
       "       fit_params={}, iid=False, n_jobs=4,\n",
       "       param_grid={'min_child_weight': [6, 8, 10, 12]},\n",
       "       pre_dispatch='2*n_jobs', refit=True, scoring='roc_auc', verbose=0)"
      ]
     },
     "execution_count": 83,
     "metadata": {},
     "output_type": "execute_result"
    }
   ],
   "source": [
    "param_test2b = {\n",
    " 'min_child_weight':[6,8,10,12]\n",
    "}\n",
    "gsearch2b = GridSearchCV(estimator = XGBClassifier( learning_rate=0.1, n_estimators=140, max_depth=4,\n",
    " min_child_weight=2, gamma=0, subsample=0.8, colsample_bytree=0.8,\n",
    " objective= 'binary:logistic', nthread=4, scale_pos_weight=1,seed=27), \n",
    " param_grid = param_test2b, scoring='roc_auc',n_jobs=4,iid=False, cv=5)\n",
    "gsearch2b.fit(X_train,y_train)"
   ]
  },
  {
   "cell_type": "code",
   "execution_count": 84,
   "metadata": {},
   "outputs": [
    {
     "data": {
      "text/plain": [
       "([mean: 0.94841, std: 0.01607, params: {'min_child_weight': 6},\n",
       "  mean: 0.94174, std: 0.01565, params: {'min_child_weight': 8},\n",
       "  mean: 0.93780, std: 0.02161, params: {'min_child_weight': 10},\n",
       "  mean: 0.93003, std: 0.02233, params: {'min_child_weight': 12}],\n",
       " {'min_child_weight': 6},\n",
       " 0.9484122623373221)"
      ]
     },
     "execution_count": 84,
     "metadata": {},
     "output_type": "execute_result"
    }
   ],
   "source": [
    "gsearch2b.grid_scores_, gsearch2b.best_params_, gsearch2b.best_score_"
   ]
  },
  {
   "cell_type": "code",
   "execution_count": 85,
   "metadata": {},
   "outputs": [
    {
     "data": {
      "text/plain": [
       "([mean: 0.94841, std: 0.01607, params: {'gamma': 0.0},\n",
       "  mean: 0.94712, std: 0.01615, params: {'gamma': 0.1},\n",
       "  mean: 0.94787, std: 0.01493, params: {'gamma': 0.2},\n",
       "  mean: 0.94848, std: 0.01624, params: {'gamma': 0.3},\n",
       "  mean: 0.94688, std: 0.01692, params: {'gamma': 0.4}],\n",
       " {'gamma': 0.3},\n",
       " 0.9484845662895092)"
      ]
     },
     "execution_count": 85,
     "metadata": {},
     "output_type": "execute_result"
    }
   ],
   "source": [
    "param_test3 = {\n",
    " 'gamma':[i/10.0 for i in range(0,5)]\n",
    "}\n",
    "gsearch3 = GridSearchCV(estimator = XGBClassifier( learning_rate =0.1, n_estimators=140, max_depth=4,\n",
    " min_child_weight=6, gamma=0, subsample=0.8, colsample_bytree=0.8,\n",
    " objective= 'binary:logistic', nthread=4, scale_pos_weight=1,seed=27), \n",
    " param_grid = param_test3, scoring='roc_auc',n_jobs=4,iid=False, cv=5)\n",
    "gsearch3.fit(X_train,y_train)\n",
    "gsearch3.grid_scores_, gsearch3.best_params_, gsearch3.best_score_"
   ]
  },
  {
   "cell_type": "code",
   "execution_count": 86,
   "metadata": {},
   "outputs": [
    {
     "data": {
      "text/plain": [
       "([mean: 0.94295, std: 0.01952, params: {'colsample_bytree': 0.6, 'subsample': 0.6},\n",
       "  mean: 0.94684, std: 0.01615, params: {'colsample_bytree': 0.6, 'subsample': 0.7},\n",
       "  mean: 0.94744, std: 0.01662, params: {'colsample_bytree': 0.6, 'subsample': 0.8},\n",
       "  mean: 0.94942, std: 0.01692, params: {'colsample_bytree': 0.6, 'subsample': 0.9},\n",
       "  mean: 0.94504, std: 0.01634, params: {'colsample_bytree': 0.7, 'subsample': 0.6},\n",
       "  mean: 0.94759, std: 0.01629, params: {'colsample_bytree': 0.7, 'subsample': 0.7},\n",
       "  mean: 0.94880, std: 0.01491, params: {'colsample_bytree': 0.7, 'subsample': 0.8},\n",
       "  mean: 0.95075, std: 0.01603, params: {'colsample_bytree': 0.7, 'subsample': 0.9},\n",
       "  mean: 0.94581, std: 0.01715, params: {'colsample_bytree': 0.8, 'subsample': 0.6},\n",
       "  mean: 0.94810, std: 0.01641, params: {'colsample_bytree': 0.8, 'subsample': 0.7},\n",
       "  mean: 0.95023, std: 0.01620, params: {'colsample_bytree': 0.8, 'subsample': 0.8},\n",
       "  mean: 0.95054, std: 0.01436, params: {'colsample_bytree': 0.8, 'subsample': 0.9},\n",
       "  mean: 0.94753, std: 0.01721, params: {'colsample_bytree': 0.9, 'subsample': 0.6},\n",
       "  mean: 0.94992, std: 0.01569, params: {'colsample_bytree': 0.9, 'subsample': 0.7},\n",
       "  mean: 0.95104, std: 0.01469, params: {'colsample_bytree': 0.9, 'subsample': 0.8},\n",
       "  mean: 0.95202, std: 0.01517, params: {'colsample_bytree': 0.9, 'subsample': 0.9}],\n",
       " {'colsample_bytree': 0.9, 'subsample': 0.9},\n",
       " 0.9520228209306072)"
      ]
     },
     "execution_count": 86,
     "metadata": {},
     "output_type": "execute_result"
    }
   ],
   "source": [
    "param_test4 = {\n",
    " 'subsample':[i/10.0 for i in range(6,10)],\n",
    " 'colsample_bytree':[i/10.0 for i in range(6,10)]\n",
    "}\n",
    "gsearch4 = GridSearchCV(estimator = XGBClassifier( learning_rate =0.1, n_estimators=177, max_depth=4,\n",
    " min_child_weight=6, gamma=0, subsample=0.8, colsample_bytree=0.8,\n",
    " objective= 'binary:logistic', nthread=4, scale_pos_weight=1,seed=27), \n",
    " param_grid = param_test4, scoring='roc_auc',n_jobs=4,iid=False, cv=5)\n",
    "gsearch4.fit(X_train,y_train)\n",
    "gsearch4.grid_scores_, gsearch4.best_params_, gsearch4.best_score_"
   ]
  },
  {
   "cell_type": "code",
   "execution_count": 82,
   "metadata": {},
   "outputs": [
    {
     "data": {
      "text/plain": [
       "GridSearchCV(cv=5, error_score='raise',\n",
       "       estimator=XGBClassifier(base_score=0.5, booster='gbtree', colsample_bylevel=1,\n",
       "       colsample_bytree=0.8, gamma=0, learning_rate=0.1, max_delta_step=0,\n",
       "       max_depth=4, min_child_weight=6, missing=None, n_estimators=177,\n",
       "       n_jobs=1, nthread=4, objective='binary:logistic', random_state=0,\n",
       "       reg_alpha=0, reg_lambda=1, scale_pos_weight=1, seed=27, silent=True,\n",
       "       subsample=0.8),\n",
       "       fit_params={}, iid=False, n_jobs=4,\n",
       "       param_grid={'subsample': [0.75, 0.8, 0.85], 'colsample_bytree': [0.75, 0.8, 0.85]},\n",
       "       pre_dispatch='2*n_jobs', refit=True, scoring='roc_auc', verbose=0)"
      ]
     },
     "execution_count": 82,
     "metadata": {},
     "output_type": "execute_result"
    }
   ],
   "source": [
    "param_test5 = {\n",
    " 'subsample':[i/100.0 for i in range(75,90,5)],\n",
    " 'colsample_bytree':[i/100.0 for i in range(75,90,5)]\n",
    "}\n",
    "gsearch5 = GridSearchCV(estimator = XGBClassifier( learning_rate =0.1, n_estimators=177, max_depth=4,\n",
    " min_child_weight=6, gamma=0, subsample=0.8, colsample_bytree=0.8,\n",
    " objective= 'binary:logistic', nthread=4, scale_pos_weight=1,seed=27), \n",
    " param_grid = param_test5, scoring='roc_auc',n_jobs=4,iid=False, cv=5)\n",
    "gsearch5.fit(X_train,y_train)"
   ]
  },
  {
   "cell_type": "code",
   "execution_count": 87,
   "metadata": {},
   "outputs": [
    {
     "data": {
      "text/plain": [
       "([mean: 0.94950, std: 0.01657, params: {'reg_alpha': 1e-05},\n",
       "  mean: 0.94971, std: 0.01656, params: {'reg_alpha': 0.01},\n",
       "  mean: 0.94941, std: 0.01705, params: {'reg_alpha': 0.1},\n",
       "  mean: 0.94801, std: 0.01590, params: {'reg_alpha': 1},\n",
       "  mean: 0.75967, std: 0.05798, params: {'reg_alpha': 100}],\n",
       " {'reg_alpha': 0.01},\n",
       " 0.9497059146009452)"
      ]
     },
     "execution_count": 87,
     "metadata": {},
     "output_type": "execute_result"
    }
   ],
   "source": [
    "param_test6 = {\n",
    " 'reg_alpha':[1e-5, 1e-2, 0.1, 1, 100]\n",
    "}\n",
    "gsearch6 = GridSearchCV(estimator = XGBClassifier( learning_rate =0.1, n_estimators=177, max_depth=4,\n",
    " min_child_weight=6, gamma=0.1, subsample=0.8, colsample_bytree=0.8,\n",
    " objective= 'binary:logistic', nthread=4, scale_pos_weight=1,seed=27), \n",
    " param_grid = param_test6, scoring='roc_auc',n_jobs=4,iid=False, cv=5)\n",
    "gsearch6.fit(X_train,y_train)\n",
    "gsearch6.grid_scores_, gsearch6.best_params_, gsearch6.best_score_"
   ]
  },
  {
   "cell_type": "code",
   "execution_count": 88,
   "metadata": {},
   "outputs": [
    {
     "data": {
      "text/plain": [
       "([mean: 0.94950, std: 0.01657, params: {'reg_alpha': 0},\n",
       "  mean: 0.94950, std: 0.01657, params: {'reg_alpha': 0.001},\n",
       "  mean: 0.94968, std: 0.01652, params: {'reg_alpha': 0.005},\n",
       "  mean: 0.94971, std: 0.01656, params: {'reg_alpha': 0.01},\n",
       "  mean: 0.94974, std: 0.01606, params: {'reg_alpha': 0.05}],\n",
       " {'reg_alpha': 0.05},\n",
       " 0.949740583330804)"
      ]
     },
     "execution_count": 88,
     "metadata": {},
     "output_type": "execute_result"
    }
   ],
   "source": [
    "param_test7 = {\n",
    " 'reg_alpha':[0, 0.001, 0.005, 0.01, 0.05]\n",
    "}\n",
    "gsearch7 = GridSearchCV(estimator = XGBClassifier( learning_rate =0.1, n_estimators=177, max_depth=4,\n",
    " min_child_weight=6, gamma=0.1, subsample=0.8, colsample_bytree=0.8,\n",
    " objective= 'binary:logistic', nthread=4, scale_pos_weight=1,seed=27), \n",
    " param_grid = param_test7, scoring='roc_auc',n_jobs=4,iid=False, cv=5)\n",
    "gsearch7.fit(X_train,y_train)\n",
    "gsearch7.grid_scores_, gsearch7.best_params_, gsearch7.best_score_"
   ]
  },
  {
   "cell_type": "code",
   "execution_count": 89,
   "metadata": {},
   "outputs": [
    {
     "data": {
      "text/plain": [
       "XGBClassifier(base_score=0.5, booster='gbtree', colsample_bylevel=1,\n",
       "       colsample_bytree=0.9, gamma=0.3, learning_rate=0.01,\n",
       "       max_delta_step=0, max_depth=6, min_child_weight=6, missing=None,\n",
       "       n_estimators=5000, n_jobs=1, nthread=4, objective='binary:logistic',\n",
       "       random_state=0, reg_alpha=0, reg_lambda=1, scale_pos_weight=1,\n",
       "       seed=27, silent=True, subsample=0.9)"
      ]
     },
     "execution_count": 89,
     "metadata": {},
     "output_type": "execute_result"
    }
   ],
   "source": [
    "xgb4 = XGBClassifier(\n",
    " learning_rate =0.01,\n",
    " n_estimators=5000,\n",
    " max_depth=6,\n",
    " min_child_weight=6,\n",
    " gamma=0.3,\n",
    " subsample=0.9,\n",
    " colsample_bytree=0.9,\n",
    " objective= 'binary:logistic',\n",
    " nthread=4,\n",
    " scale_pos_weight=1,\n",
    " seed=27)\n",
    "xgb4.fit(X_train,y_train)\n"
   ]
  },
  {
   "cell_type": "code",
   "execution_count": 90,
   "metadata": {},
   "outputs": [
    {
     "name": "stdout",
     "output_type": "stream",
     "text": [
      "accuracy: 0.9065040650406504\n",
      "Precision: 0.9054125761019672\n",
      "Recall: 0.9065040650406504\n",
      "f1_score: 0.905512261160073\n"
     ]
    },
    {
     "name": "stderr",
     "output_type": "stream",
     "text": [
      "C:\\Users\\Kush\\Anaconda3\\lib\\site-packages\\sklearn\\preprocessing\\label.py:151: DeprecationWarning: The truth value of an empty array is ambiguous. Returning False, but in future this will result in an error. Use `array.size > 0` to check that an array is not empty.\n",
      "  if diff:\n"
     ]
    }
   ],
   "source": [
    "y_pred4 = xgb4.predict(X_test)\n",
    "accuracy_xgb4=accuracy_score(y_test, y_pred4)\n",
    "precision_xgb4=precision_score(y_test, y_pred4,average='weighted')\n",
    "recall_xgb4=recall_score(y_test, y_pred4,average='weighted')\n",
    "f1_xgb4=f1_score(y_test,y_pred4,average='weighted')\n",
    "print(\"accuracy:\", accuracy_xgb4)\n",
    "print(\"Precision:\", precision_xgb4)\n",
    "print(\"Recall:\", recall_xgb4)\n",
    "print('f1_score:',f1_xgb4)"
   ]
  },
  {
   "cell_type": "code",
   "execution_count": 94,
   "metadata": {},
   "outputs": [],
   "source": [
    "missing_cols = set( X_train.columns ) - set( test.columns )\n",
    "for c in missing_cols:\n",
    "    test[c] = 0\n",
    "test = test[X_train.columns]"
   ]
  },
  {
   "cell_type": "code",
   "execution_count": 97,
   "metadata": {},
   "outputs": [
    {
     "name": "stderr",
     "output_type": "stream",
     "text": [
      "C:\\Users\\Kush\\Anaconda3\\lib\\site-packages\\sklearn\\preprocessing\\label.py:151: DeprecationWarning: The truth value of an empty array is ambiguous. Returning False, but in future this will result in an error. Use `array.size > 0` to check that an array is not empty.\n",
      "  if diff:\n",
      "C:\\Users\\Kush\\Anaconda3\\lib\\site-packages\\ipykernel_launcher.py:1: SettingWithCopyWarning: \n",
      "A value is trying to be set on a copy of a slice from a DataFrame.\n",
      "Try using .loc[row_indexer,col_indexer] = value instead\n",
      "\n",
      "See the caveats in the documentation: http://pandas.pydata.org/pandas-docs/stable/indexing.html#indexing-view-versus-copy\n",
      "  \"\"\"Entry point for launching an IPython kernel.\n"
     ]
    }
   ],
   "source": [
    "test['Exited (Y/N)'] = xgb4.predict(test)"
   ]
  },
  {
   "cell_type": "code",
   "execution_count": 98,
   "metadata": {},
   "outputs": [
    {
     "name": "stderr",
     "output_type": "stream",
     "text": [
      "C:\\Users\\Kush\\Anaconda3\\lib\\site-packages\\ipykernel_launcher.py:1: SettingWithCopyWarning: \n",
      "A value is trying to be set on a copy of a slice from a DataFrame.\n",
      "Try using .loc[row_indexer,col_indexer] = value instead\n",
      "\n",
      "See the caveats in the documentation: http://pandas.pydata.org/pandas-docs/stable/indexing.html#indexing-view-versus-copy\n",
      "  \"\"\"Entry point for launching an IPython kernel.\n"
     ]
    }
   ],
   "source": [
    "test['Exited (Y/N)']=test['Exited (Y/N)'].apply(lambda x: 'N' if x==0 else 'Y')"
   ]
  },
  {
   "cell_type": "code",
   "execution_count": 99,
   "metadata": {},
   "outputs": [
    {
     "data": {
      "text/plain": [
       "0      Y\n",
       "1      Y\n",
       "2      Y\n",
       "3      Y\n",
       "4      Y\n",
       "5      N\n",
       "6      Y\n",
       "7      Y\n",
       "8      Y\n",
       "9      N\n",
       "10     Y\n",
       "11     Y\n",
       "12     Y\n",
       "13     Y\n",
       "14     Y\n",
       "15     Y\n",
       "16     Y\n",
       "17     N\n",
       "18     Y\n",
       "19     Y\n",
       "20     Y\n",
       "21     Y\n",
       "22     Y\n",
       "23     Y\n",
       "24     N\n",
       "25     Y\n",
       "26     Y\n",
       "27     N\n",
       "28     Y\n",
       "29     Y\n",
       "      ..\n",
       "278    Y\n",
       "279    Y\n",
       "280    Y\n",
       "281    Y\n",
       "282    Y\n",
       "283    N\n",
       "284    Y\n",
       "285    N\n",
       "286    Y\n",
       "287    Y\n",
       "288    Y\n",
       "289    Y\n",
       "290    Y\n",
       "291    Y\n",
       "292    Y\n",
       "293    Y\n",
       "294    Y\n",
       "295    N\n",
       "296    Y\n",
       "297    Y\n",
       "298    Y\n",
       "299    Y\n",
       "300    Y\n",
       "301    Y\n",
       "302    N\n",
       "303    Y\n",
       "304    Y\n",
       "305    Y\n",
       "306    Y\n",
       "307    N\n",
       "Name: Exited (Y/N), Length: 308, dtype: object"
      ]
     },
     "execution_count": 99,
     "metadata": {},
     "output_type": "execute_result"
    }
   ],
   "source": [
    "test['Exited (Y/N)']"
   ]
  },
  {
   "cell_type": "code",
   "execution_count": null,
   "metadata": {},
   "outputs": [],
   "source": []
  }
 ],
 "metadata": {
  "kernelspec": {
   "display_name": "Python 3",
   "language": "python",
   "name": "python3"
  },
  "language_info": {
   "codemirror_mode": {
    "name": "ipython",
    "version": 3
   },
   "file_extension": ".py",
   "mimetype": "text/x-python",
   "name": "python",
   "nbconvert_exporter": "python",
   "pygments_lexer": "ipython3",
   "version": "3.6.4"
  }
 },
 "nbformat": 4,
 "nbformat_minor": 2
}
